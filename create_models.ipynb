{
  "nbformat": 4,
  "nbformat_minor": 0,
  "metadata": {
    "colab": {
      "provenance": [],
      "gpuType": "T4"
    },
    "kernelspec": {
      "name": "python3",
      "display_name": "Python 3"
    },
    "language_info": {
      "name": "python"
    },
    "accelerator": "GPU",
    "widgets": {
      "application/vnd.jupyter.widget-state+json": {
        "f5878b751ecd4047b7b09c9c65c4a6f7": {
          "model_module": "@jupyter-widgets/controls",
          "model_name": "HBoxModel",
          "model_module_version": "1.5.0",
          "state": {
            "_dom_classes": [],
            "_model_module": "@jupyter-widgets/controls",
            "_model_module_version": "1.5.0",
            "_model_name": "HBoxModel",
            "_view_count": null,
            "_view_module": "@jupyter-widgets/controls",
            "_view_module_version": "1.5.0",
            "_view_name": "HBoxView",
            "box_style": "",
            "children": [
              "IPY_MODEL_7abec79685eb438ab5e1221a23af4125",
              "IPY_MODEL_a18e27a84b284d78942af84ac77ad933",
              "IPY_MODEL_8a53fc855bf244a78b78ee22873075c0"
            ],
            "layout": "IPY_MODEL_7672b12021d34fa5948e7d24c39b5818"
          }
        },
        "7abec79685eb438ab5e1221a23af4125": {
          "model_module": "@jupyter-widgets/controls",
          "model_name": "HTMLModel",
          "model_module_version": "1.5.0",
          "state": {
            "_dom_classes": [],
            "_model_module": "@jupyter-widgets/controls",
            "_model_module_version": "1.5.0",
            "_model_name": "HTMLModel",
            "_view_count": null,
            "_view_module": "@jupyter-widgets/controls",
            "_view_module_version": "1.5.0",
            "_view_name": "HTMLView",
            "description": "",
            "description_tooltip": null,
            "layout": "IPY_MODEL_8ff13ea110b147e982caf9bde6435f91",
            "placeholder": "​",
            "style": "IPY_MODEL_3a53a6eeb0db4ad2883ad7e0cabb44c5",
            "value": "tokenizer_config.json: 100%"
          }
        },
        "a18e27a84b284d78942af84ac77ad933": {
          "model_module": "@jupyter-widgets/controls",
          "model_name": "FloatProgressModel",
          "model_module_version": "1.5.0",
          "state": {
            "_dom_classes": [],
            "_model_module": "@jupyter-widgets/controls",
            "_model_module_version": "1.5.0",
            "_model_name": "FloatProgressModel",
            "_view_count": null,
            "_view_module": "@jupyter-widgets/controls",
            "_view_module_version": "1.5.0",
            "_view_name": "ProgressView",
            "bar_style": "success",
            "description": "",
            "description_tooltip": null,
            "layout": "IPY_MODEL_7261f8f39f894aeab08cf43813f33046",
            "max": 28,
            "min": 0,
            "orientation": "horizontal",
            "style": "IPY_MODEL_a5a76e527e914ae8b064d4871007a191",
            "value": 28
          }
        },
        "8a53fc855bf244a78b78ee22873075c0": {
          "model_module": "@jupyter-widgets/controls",
          "model_name": "HTMLModel",
          "model_module_version": "1.5.0",
          "state": {
            "_dom_classes": [],
            "_model_module": "@jupyter-widgets/controls",
            "_model_module_version": "1.5.0",
            "_model_name": "HTMLModel",
            "_view_count": null,
            "_view_module": "@jupyter-widgets/controls",
            "_view_module_version": "1.5.0",
            "_view_name": "HTMLView",
            "description": "",
            "description_tooltip": null,
            "layout": "IPY_MODEL_7e270c1ab6d942e1a5ebd87de43a2570",
            "placeholder": "​",
            "style": "IPY_MODEL_b62f032ea214437a8b107fee3d870fae",
            "value": " 28.0/28.0 [00:00&lt;00:00, 624B/s]"
          }
        },
        "7672b12021d34fa5948e7d24c39b5818": {
          "model_module": "@jupyter-widgets/base",
          "model_name": "LayoutModel",
          "model_module_version": "1.2.0",
          "state": {
            "_model_module": "@jupyter-widgets/base",
            "_model_module_version": "1.2.0",
            "_model_name": "LayoutModel",
            "_view_count": null,
            "_view_module": "@jupyter-widgets/base",
            "_view_module_version": "1.2.0",
            "_view_name": "LayoutView",
            "align_content": null,
            "align_items": null,
            "align_self": null,
            "border": null,
            "bottom": null,
            "display": null,
            "flex": null,
            "flex_flow": null,
            "grid_area": null,
            "grid_auto_columns": null,
            "grid_auto_flow": null,
            "grid_auto_rows": null,
            "grid_column": null,
            "grid_gap": null,
            "grid_row": null,
            "grid_template_areas": null,
            "grid_template_columns": null,
            "grid_template_rows": null,
            "height": null,
            "justify_content": null,
            "justify_items": null,
            "left": null,
            "margin": null,
            "max_height": null,
            "max_width": null,
            "min_height": null,
            "min_width": null,
            "object_fit": null,
            "object_position": null,
            "order": null,
            "overflow": null,
            "overflow_x": null,
            "overflow_y": null,
            "padding": null,
            "right": null,
            "top": null,
            "visibility": null,
            "width": null
          }
        },
        "8ff13ea110b147e982caf9bde6435f91": {
          "model_module": "@jupyter-widgets/base",
          "model_name": "LayoutModel",
          "model_module_version": "1.2.0",
          "state": {
            "_model_module": "@jupyter-widgets/base",
            "_model_module_version": "1.2.0",
            "_model_name": "LayoutModel",
            "_view_count": null,
            "_view_module": "@jupyter-widgets/base",
            "_view_module_version": "1.2.0",
            "_view_name": "LayoutView",
            "align_content": null,
            "align_items": null,
            "align_self": null,
            "border": null,
            "bottom": null,
            "display": null,
            "flex": null,
            "flex_flow": null,
            "grid_area": null,
            "grid_auto_columns": null,
            "grid_auto_flow": null,
            "grid_auto_rows": null,
            "grid_column": null,
            "grid_gap": null,
            "grid_row": null,
            "grid_template_areas": null,
            "grid_template_columns": null,
            "grid_template_rows": null,
            "height": null,
            "justify_content": null,
            "justify_items": null,
            "left": null,
            "margin": null,
            "max_height": null,
            "max_width": null,
            "min_height": null,
            "min_width": null,
            "object_fit": null,
            "object_position": null,
            "order": null,
            "overflow": null,
            "overflow_x": null,
            "overflow_y": null,
            "padding": null,
            "right": null,
            "top": null,
            "visibility": null,
            "width": null
          }
        },
        "3a53a6eeb0db4ad2883ad7e0cabb44c5": {
          "model_module": "@jupyter-widgets/controls",
          "model_name": "DescriptionStyleModel",
          "model_module_version": "1.5.0",
          "state": {
            "_model_module": "@jupyter-widgets/controls",
            "_model_module_version": "1.5.0",
            "_model_name": "DescriptionStyleModel",
            "_view_count": null,
            "_view_module": "@jupyter-widgets/base",
            "_view_module_version": "1.2.0",
            "_view_name": "StyleView",
            "description_width": ""
          }
        },
        "7261f8f39f894aeab08cf43813f33046": {
          "model_module": "@jupyter-widgets/base",
          "model_name": "LayoutModel",
          "model_module_version": "1.2.0",
          "state": {
            "_model_module": "@jupyter-widgets/base",
            "_model_module_version": "1.2.0",
            "_model_name": "LayoutModel",
            "_view_count": null,
            "_view_module": "@jupyter-widgets/base",
            "_view_module_version": "1.2.0",
            "_view_name": "LayoutView",
            "align_content": null,
            "align_items": null,
            "align_self": null,
            "border": null,
            "bottom": null,
            "display": null,
            "flex": null,
            "flex_flow": null,
            "grid_area": null,
            "grid_auto_columns": null,
            "grid_auto_flow": null,
            "grid_auto_rows": null,
            "grid_column": null,
            "grid_gap": null,
            "grid_row": null,
            "grid_template_areas": null,
            "grid_template_columns": null,
            "grid_template_rows": null,
            "height": null,
            "justify_content": null,
            "justify_items": null,
            "left": null,
            "margin": null,
            "max_height": null,
            "max_width": null,
            "min_height": null,
            "min_width": null,
            "object_fit": null,
            "object_position": null,
            "order": null,
            "overflow": null,
            "overflow_x": null,
            "overflow_y": null,
            "padding": null,
            "right": null,
            "top": null,
            "visibility": null,
            "width": null
          }
        },
        "a5a76e527e914ae8b064d4871007a191": {
          "model_module": "@jupyter-widgets/controls",
          "model_name": "ProgressStyleModel",
          "model_module_version": "1.5.0",
          "state": {
            "_model_module": "@jupyter-widgets/controls",
            "_model_module_version": "1.5.0",
            "_model_name": "ProgressStyleModel",
            "_view_count": null,
            "_view_module": "@jupyter-widgets/base",
            "_view_module_version": "1.2.0",
            "_view_name": "StyleView",
            "bar_color": null,
            "description_width": ""
          }
        },
        "7e270c1ab6d942e1a5ebd87de43a2570": {
          "model_module": "@jupyter-widgets/base",
          "model_name": "LayoutModel",
          "model_module_version": "1.2.0",
          "state": {
            "_model_module": "@jupyter-widgets/base",
            "_model_module_version": "1.2.0",
            "_model_name": "LayoutModel",
            "_view_count": null,
            "_view_module": "@jupyter-widgets/base",
            "_view_module_version": "1.2.0",
            "_view_name": "LayoutView",
            "align_content": null,
            "align_items": null,
            "align_self": null,
            "border": null,
            "bottom": null,
            "display": null,
            "flex": null,
            "flex_flow": null,
            "grid_area": null,
            "grid_auto_columns": null,
            "grid_auto_flow": null,
            "grid_auto_rows": null,
            "grid_column": null,
            "grid_gap": null,
            "grid_row": null,
            "grid_template_areas": null,
            "grid_template_columns": null,
            "grid_template_rows": null,
            "height": null,
            "justify_content": null,
            "justify_items": null,
            "left": null,
            "margin": null,
            "max_height": null,
            "max_width": null,
            "min_height": null,
            "min_width": null,
            "object_fit": null,
            "object_position": null,
            "order": null,
            "overflow": null,
            "overflow_x": null,
            "overflow_y": null,
            "padding": null,
            "right": null,
            "top": null,
            "visibility": null,
            "width": null
          }
        },
        "b62f032ea214437a8b107fee3d870fae": {
          "model_module": "@jupyter-widgets/controls",
          "model_name": "DescriptionStyleModel",
          "model_module_version": "1.5.0",
          "state": {
            "_model_module": "@jupyter-widgets/controls",
            "_model_module_version": "1.5.0",
            "_model_name": "DescriptionStyleModel",
            "_view_count": null,
            "_view_module": "@jupyter-widgets/base",
            "_view_module_version": "1.2.0",
            "_view_name": "StyleView",
            "description_width": ""
          }
        },
        "93fee3c068f845e4b6672aff69b69917": {
          "model_module": "@jupyter-widgets/controls",
          "model_name": "HBoxModel",
          "model_module_version": "1.5.0",
          "state": {
            "_dom_classes": [],
            "_model_module": "@jupyter-widgets/controls",
            "_model_module_version": "1.5.0",
            "_model_name": "HBoxModel",
            "_view_count": null,
            "_view_module": "@jupyter-widgets/controls",
            "_view_module_version": "1.5.0",
            "_view_name": "HBoxView",
            "box_style": "",
            "children": [
              "IPY_MODEL_7f3054ace246410792a788600932e6bf",
              "IPY_MODEL_34ecf60459644a90909fadb82c4402d1",
              "IPY_MODEL_a41a079851e94f1c9924b402c91ee153"
            ],
            "layout": "IPY_MODEL_843c37756539471ab24aec8ae4611439"
          }
        },
        "7f3054ace246410792a788600932e6bf": {
          "model_module": "@jupyter-widgets/controls",
          "model_name": "HTMLModel",
          "model_module_version": "1.5.0",
          "state": {
            "_dom_classes": [],
            "_model_module": "@jupyter-widgets/controls",
            "_model_module_version": "1.5.0",
            "_model_name": "HTMLModel",
            "_view_count": null,
            "_view_module": "@jupyter-widgets/controls",
            "_view_module_version": "1.5.0",
            "_view_name": "HTMLView",
            "description": "",
            "description_tooltip": null,
            "layout": "IPY_MODEL_4bdceb85045b4d548f93cc028f6df2b2",
            "placeholder": "​",
            "style": "IPY_MODEL_d6fce113851546b69c27619349a1f8f9",
            "value": "vocab.txt: 100%"
          }
        },
        "34ecf60459644a90909fadb82c4402d1": {
          "model_module": "@jupyter-widgets/controls",
          "model_name": "FloatProgressModel",
          "model_module_version": "1.5.0",
          "state": {
            "_dom_classes": [],
            "_model_module": "@jupyter-widgets/controls",
            "_model_module_version": "1.5.0",
            "_model_name": "FloatProgressModel",
            "_view_count": null,
            "_view_module": "@jupyter-widgets/controls",
            "_view_module_version": "1.5.0",
            "_view_name": "ProgressView",
            "bar_style": "success",
            "description": "",
            "description_tooltip": null,
            "layout": "IPY_MODEL_fd1575460d0a495cad7b04d3ce1b16c1",
            "max": 231508,
            "min": 0,
            "orientation": "horizontal",
            "style": "IPY_MODEL_df952db6131f471fbd38542d86eae978",
            "value": 231508
          }
        },
        "a41a079851e94f1c9924b402c91ee153": {
          "model_module": "@jupyter-widgets/controls",
          "model_name": "HTMLModel",
          "model_module_version": "1.5.0",
          "state": {
            "_dom_classes": [],
            "_model_module": "@jupyter-widgets/controls",
            "_model_module_version": "1.5.0",
            "_model_name": "HTMLModel",
            "_view_count": null,
            "_view_module": "@jupyter-widgets/controls",
            "_view_module_version": "1.5.0",
            "_view_name": "HTMLView",
            "description": "",
            "description_tooltip": null,
            "layout": "IPY_MODEL_e1a51fc7ed204c6d90b3184494c0163b",
            "placeholder": "​",
            "style": "IPY_MODEL_ba7c795fc09f45b6a188304511faf185",
            "value": " 232k/232k [00:00&lt;00:00, 3.10MB/s]"
          }
        },
        "843c37756539471ab24aec8ae4611439": {
          "model_module": "@jupyter-widgets/base",
          "model_name": "LayoutModel",
          "model_module_version": "1.2.0",
          "state": {
            "_model_module": "@jupyter-widgets/base",
            "_model_module_version": "1.2.0",
            "_model_name": "LayoutModel",
            "_view_count": null,
            "_view_module": "@jupyter-widgets/base",
            "_view_module_version": "1.2.0",
            "_view_name": "LayoutView",
            "align_content": null,
            "align_items": null,
            "align_self": null,
            "border": null,
            "bottom": null,
            "display": null,
            "flex": null,
            "flex_flow": null,
            "grid_area": null,
            "grid_auto_columns": null,
            "grid_auto_flow": null,
            "grid_auto_rows": null,
            "grid_column": null,
            "grid_gap": null,
            "grid_row": null,
            "grid_template_areas": null,
            "grid_template_columns": null,
            "grid_template_rows": null,
            "height": null,
            "justify_content": null,
            "justify_items": null,
            "left": null,
            "margin": null,
            "max_height": null,
            "max_width": null,
            "min_height": null,
            "min_width": null,
            "object_fit": null,
            "object_position": null,
            "order": null,
            "overflow": null,
            "overflow_x": null,
            "overflow_y": null,
            "padding": null,
            "right": null,
            "top": null,
            "visibility": null,
            "width": null
          }
        },
        "4bdceb85045b4d548f93cc028f6df2b2": {
          "model_module": "@jupyter-widgets/base",
          "model_name": "LayoutModel",
          "model_module_version": "1.2.0",
          "state": {
            "_model_module": "@jupyter-widgets/base",
            "_model_module_version": "1.2.0",
            "_model_name": "LayoutModel",
            "_view_count": null,
            "_view_module": "@jupyter-widgets/base",
            "_view_module_version": "1.2.0",
            "_view_name": "LayoutView",
            "align_content": null,
            "align_items": null,
            "align_self": null,
            "border": null,
            "bottom": null,
            "display": null,
            "flex": null,
            "flex_flow": null,
            "grid_area": null,
            "grid_auto_columns": null,
            "grid_auto_flow": null,
            "grid_auto_rows": null,
            "grid_column": null,
            "grid_gap": null,
            "grid_row": null,
            "grid_template_areas": null,
            "grid_template_columns": null,
            "grid_template_rows": null,
            "height": null,
            "justify_content": null,
            "justify_items": null,
            "left": null,
            "margin": null,
            "max_height": null,
            "max_width": null,
            "min_height": null,
            "min_width": null,
            "object_fit": null,
            "object_position": null,
            "order": null,
            "overflow": null,
            "overflow_x": null,
            "overflow_y": null,
            "padding": null,
            "right": null,
            "top": null,
            "visibility": null,
            "width": null
          }
        },
        "d6fce113851546b69c27619349a1f8f9": {
          "model_module": "@jupyter-widgets/controls",
          "model_name": "DescriptionStyleModel",
          "model_module_version": "1.5.0",
          "state": {
            "_model_module": "@jupyter-widgets/controls",
            "_model_module_version": "1.5.0",
            "_model_name": "DescriptionStyleModel",
            "_view_count": null,
            "_view_module": "@jupyter-widgets/base",
            "_view_module_version": "1.2.0",
            "_view_name": "StyleView",
            "description_width": ""
          }
        },
        "fd1575460d0a495cad7b04d3ce1b16c1": {
          "model_module": "@jupyter-widgets/base",
          "model_name": "LayoutModel",
          "model_module_version": "1.2.0",
          "state": {
            "_model_module": "@jupyter-widgets/base",
            "_model_module_version": "1.2.0",
            "_model_name": "LayoutModel",
            "_view_count": null,
            "_view_module": "@jupyter-widgets/base",
            "_view_module_version": "1.2.0",
            "_view_name": "LayoutView",
            "align_content": null,
            "align_items": null,
            "align_self": null,
            "border": null,
            "bottom": null,
            "display": null,
            "flex": null,
            "flex_flow": null,
            "grid_area": null,
            "grid_auto_columns": null,
            "grid_auto_flow": null,
            "grid_auto_rows": null,
            "grid_column": null,
            "grid_gap": null,
            "grid_row": null,
            "grid_template_areas": null,
            "grid_template_columns": null,
            "grid_template_rows": null,
            "height": null,
            "justify_content": null,
            "justify_items": null,
            "left": null,
            "margin": null,
            "max_height": null,
            "max_width": null,
            "min_height": null,
            "min_width": null,
            "object_fit": null,
            "object_position": null,
            "order": null,
            "overflow": null,
            "overflow_x": null,
            "overflow_y": null,
            "padding": null,
            "right": null,
            "top": null,
            "visibility": null,
            "width": null
          }
        },
        "df952db6131f471fbd38542d86eae978": {
          "model_module": "@jupyter-widgets/controls",
          "model_name": "ProgressStyleModel",
          "model_module_version": "1.5.0",
          "state": {
            "_model_module": "@jupyter-widgets/controls",
            "_model_module_version": "1.5.0",
            "_model_name": "ProgressStyleModel",
            "_view_count": null,
            "_view_module": "@jupyter-widgets/base",
            "_view_module_version": "1.2.0",
            "_view_name": "StyleView",
            "bar_color": null,
            "description_width": ""
          }
        },
        "e1a51fc7ed204c6d90b3184494c0163b": {
          "model_module": "@jupyter-widgets/base",
          "model_name": "LayoutModel",
          "model_module_version": "1.2.0",
          "state": {
            "_model_module": "@jupyter-widgets/base",
            "_model_module_version": "1.2.0",
            "_model_name": "LayoutModel",
            "_view_count": null,
            "_view_module": "@jupyter-widgets/base",
            "_view_module_version": "1.2.0",
            "_view_name": "LayoutView",
            "align_content": null,
            "align_items": null,
            "align_self": null,
            "border": null,
            "bottom": null,
            "display": null,
            "flex": null,
            "flex_flow": null,
            "grid_area": null,
            "grid_auto_columns": null,
            "grid_auto_flow": null,
            "grid_auto_rows": null,
            "grid_column": null,
            "grid_gap": null,
            "grid_row": null,
            "grid_template_areas": null,
            "grid_template_columns": null,
            "grid_template_rows": null,
            "height": null,
            "justify_content": null,
            "justify_items": null,
            "left": null,
            "margin": null,
            "max_height": null,
            "max_width": null,
            "min_height": null,
            "min_width": null,
            "object_fit": null,
            "object_position": null,
            "order": null,
            "overflow": null,
            "overflow_x": null,
            "overflow_y": null,
            "padding": null,
            "right": null,
            "top": null,
            "visibility": null,
            "width": null
          }
        },
        "ba7c795fc09f45b6a188304511faf185": {
          "model_module": "@jupyter-widgets/controls",
          "model_name": "DescriptionStyleModel",
          "model_module_version": "1.5.0",
          "state": {
            "_model_module": "@jupyter-widgets/controls",
            "_model_module_version": "1.5.0",
            "_model_name": "DescriptionStyleModel",
            "_view_count": null,
            "_view_module": "@jupyter-widgets/base",
            "_view_module_version": "1.2.0",
            "_view_name": "StyleView",
            "description_width": ""
          }
        },
        "5afdebee77504f3e9076e18b25409f49": {
          "model_module": "@jupyter-widgets/controls",
          "model_name": "HBoxModel",
          "model_module_version": "1.5.0",
          "state": {
            "_dom_classes": [],
            "_model_module": "@jupyter-widgets/controls",
            "_model_module_version": "1.5.0",
            "_model_name": "HBoxModel",
            "_view_count": null,
            "_view_module": "@jupyter-widgets/controls",
            "_view_module_version": "1.5.0",
            "_view_name": "HBoxView",
            "box_style": "",
            "children": [
              "IPY_MODEL_82c844700c014bd08cf81bd321b6e781",
              "IPY_MODEL_6fae89fd07654b67a205ad37a7c39aab",
              "IPY_MODEL_44701ab19ea84331a8aa62a6714463f1"
            ],
            "layout": "IPY_MODEL_36883c1357e7466b9089a5fc22215d7e"
          }
        },
        "82c844700c014bd08cf81bd321b6e781": {
          "model_module": "@jupyter-widgets/controls",
          "model_name": "HTMLModel",
          "model_module_version": "1.5.0",
          "state": {
            "_dom_classes": [],
            "_model_module": "@jupyter-widgets/controls",
            "_model_module_version": "1.5.0",
            "_model_name": "HTMLModel",
            "_view_count": null,
            "_view_module": "@jupyter-widgets/controls",
            "_view_module_version": "1.5.0",
            "_view_name": "HTMLView",
            "description": "",
            "description_tooltip": null,
            "layout": "IPY_MODEL_95cb93e63ba945a9af591ffbf5cafec2",
            "placeholder": "​",
            "style": "IPY_MODEL_b3d90ea12a264a4f90c5175979cfd73d",
            "value": "tokenizer.json: 100%"
          }
        },
        "6fae89fd07654b67a205ad37a7c39aab": {
          "model_module": "@jupyter-widgets/controls",
          "model_name": "FloatProgressModel",
          "model_module_version": "1.5.0",
          "state": {
            "_dom_classes": [],
            "_model_module": "@jupyter-widgets/controls",
            "_model_module_version": "1.5.0",
            "_model_name": "FloatProgressModel",
            "_view_count": null,
            "_view_module": "@jupyter-widgets/controls",
            "_view_module_version": "1.5.0",
            "_view_name": "ProgressView",
            "bar_style": "success",
            "description": "",
            "description_tooltip": null,
            "layout": "IPY_MODEL_b03c31d053264240b51425ed16c5f451",
            "max": 466062,
            "min": 0,
            "orientation": "horizontal",
            "style": "IPY_MODEL_77f03bcdd562485dac22ebdf67b18ed0",
            "value": 466062
          }
        },
        "44701ab19ea84331a8aa62a6714463f1": {
          "model_module": "@jupyter-widgets/controls",
          "model_name": "HTMLModel",
          "model_module_version": "1.5.0",
          "state": {
            "_dom_classes": [],
            "_model_module": "@jupyter-widgets/controls",
            "_model_module_version": "1.5.0",
            "_model_name": "HTMLModel",
            "_view_count": null,
            "_view_module": "@jupyter-widgets/controls",
            "_view_module_version": "1.5.0",
            "_view_name": "HTMLView",
            "description": "",
            "description_tooltip": null,
            "layout": "IPY_MODEL_be25a8604ca74d02ae527772027bd924",
            "placeholder": "​",
            "style": "IPY_MODEL_bbc03109e53c465cb1ab062fa7926087",
            "value": " 466k/466k [00:00&lt;00:00, 11.0MB/s]"
          }
        },
        "36883c1357e7466b9089a5fc22215d7e": {
          "model_module": "@jupyter-widgets/base",
          "model_name": "LayoutModel",
          "model_module_version": "1.2.0",
          "state": {
            "_model_module": "@jupyter-widgets/base",
            "_model_module_version": "1.2.0",
            "_model_name": "LayoutModel",
            "_view_count": null,
            "_view_module": "@jupyter-widgets/base",
            "_view_module_version": "1.2.0",
            "_view_name": "LayoutView",
            "align_content": null,
            "align_items": null,
            "align_self": null,
            "border": null,
            "bottom": null,
            "display": null,
            "flex": null,
            "flex_flow": null,
            "grid_area": null,
            "grid_auto_columns": null,
            "grid_auto_flow": null,
            "grid_auto_rows": null,
            "grid_column": null,
            "grid_gap": null,
            "grid_row": null,
            "grid_template_areas": null,
            "grid_template_columns": null,
            "grid_template_rows": null,
            "height": null,
            "justify_content": null,
            "justify_items": null,
            "left": null,
            "margin": null,
            "max_height": null,
            "max_width": null,
            "min_height": null,
            "min_width": null,
            "object_fit": null,
            "object_position": null,
            "order": null,
            "overflow": null,
            "overflow_x": null,
            "overflow_y": null,
            "padding": null,
            "right": null,
            "top": null,
            "visibility": null,
            "width": null
          }
        },
        "95cb93e63ba945a9af591ffbf5cafec2": {
          "model_module": "@jupyter-widgets/base",
          "model_name": "LayoutModel",
          "model_module_version": "1.2.0",
          "state": {
            "_model_module": "@jupyter-widgets/base",
            "_model_module_version": "1.2.0",
            "_model_name": "LayoutModel",
            "_view_count": null,
            "_view_module": "@jupyter-widgets/base",
            "_view_module_version": "1.2.0",
            "_view_name": "LayoutView",
            "align_content": null,
            "align_items": null,
            "align_self": null,
            "border": null,
            "bottom": null,
            "display": null,
            "flex": null,
            "flex_flow": null,
            "grid_area": null,
            "grid_auto_columns": null,
            "grid_auto_flow": null,
            "grid_auto_rows": null,
            "grid_column": null,
            "grid_gap": null,
            "grid_row": null,
            "grid_template_areas": null,
            "grid_template_columns": null,
            "grid_template_rows": null,
            "height": null,
            "justify_content": null,
            "justify_items": null,
            "left": null,
            "margin": null,
            "max_height": null,
            "max_width": null,
            "min_height": null,
            "min_width": null,
            "object_fit": null,
            "object_position": null,
            "order": null,
            "overflow": null,
            "overflow_x": null,
            "overflow_y": null,
            "padding": null,
            "right": null,
            "top": null,
            "visibility": null,
            "width": null
          }
        },
        "b3d90ea12a264a4f90c5175979cfd73d": {
          "model_module": "@jupyter-widgets/controls",
          "model_name": "DescriptionStyleModel",
          "model_module_version": "1.5.0",
          "state": {
            "_model_module": "@jupyter-widgets/controls",
            "_model_module_version": "1.5.0",
            "_model_name": "DescriptionStyleModel",
            "_view_count": null,
            "_view_module": "@jupyter-widgets/base",
            "_view_module_version": "1.2.0",
            "_view_name": "StyleView",
            "description_width": ""
          }
        },
        "b03c31d053264240b51425ed16c5f451": {
          "model_module": "@jupyter-widgets/base",
          "model_name": "LayoutModel",
          "model_module_version": "1.2.0",
          "state": {
            "_model_module": "@jupyter-widgets/base",
            "_model_module_version": "1.2.0",
            "_model_name": "LayoutModel",
            "_view_count": null,
            "_view_module": "@jupyter-widgets/base",
            "_view_module_version": "1.2.0",
            "_view_name": "LayoutView",
            "align_content": null,
            "align_items": null,
            "align_self": null,
            "border": null,
            "bottom": null,
            "display": null,
            "flex": null,
            "flex_flow": null,
            "grid_area": null,
            "grid_auto_columns": null,
            "grid_auto_flow": null,
            "grid_auto_rows": null,
            "grid_column": null,
            "grid_gap": null,
            "grid_row": null,
            "grid_template_areas": null,
            "grid_template_columns": null,
            "grid_template_rows": null,
            "height": null,
            "justify_content": null,
            "justify_items": null,
            "left": null,
            "margin": null,
            "max_height": null,
            "max_width": null,
            "min_height": null,
            "min_width": null,
            "object_fit": null,
            "object_position": null,
            "order": null,
            "overflow": null,
            "overflow_x": null,
            "overflow_y": null,
            "padding": null,
            "right": null,
            "top": null,
            "visibility": null,
            "width": null
          }
        },
        "77f03bcdd562485dac22ebdf67b18ed0": {
          "model_module": "@jupyter-widgets/controls",
          "model_name": "ProgressStyleModel",
          "model_module_version": "1.5.0",
          "state": {
            "_model_module": "@jupyter-widgets/controls",
            "_model_module_version": "1.5.0",
            "_model_name": "ProgressStyleModel",
            "_view_count": null,
            "_view_module": "@jupyter-widgets/base",
            "_view_module_version": "1.2.0",
            "_view_name": "StyleView",
            "bar_color": null,
            "description_width": ""
          }
        },
        "be25a8604ca74d02ae527772027bd924": {
          "model_module": "@jupyter-widgets/base",
          "model_name": "LayoutModel",
          "model_module_version": "1.2.0",
          "state": {
            "_model_module": "@jupyter-widgets/base",
            "_model_module_version": "1.2.0",
            "_model_name": "LayoutModel",
            "_view_count": null,
            "_view_module": "@jupyter-widgets/base",
            "_view_module_version": "1.2.0",
            "_view_name": "LayoutView",
            "align_content": null,
            "align_items": null,
            "align_self": null,
            "border": null,
            "bottom": null,
            "display": null,
            "flex": null,
            "flex_flow": null,
            "grid_area": null,
            "grid_auto_columns": null,
            "grid_auto_flow": null,
            "grid_auto_rows": null,
            "grid_column": null,
            "grid_gap": null,
            "grid_row": null,
            "grid_template_areas": null,
            "grid_template_columns": null,
            "grid_template_rows": null,
            "height": null,
            "justify_content": null,
            "justify_items": null,
            "left": null,
            "margin": null,
            "max_height": null,
            "max_width": null,
            "min_height": null,
            "min_width": null,
            "object_fit": null,
            "object_position": null,
            "order": null,
            "overflow": null,
            "overflow_x": null,
            "overflow_y": null,
            "padding": null,
            "right": null,
            "top": null,
            "visibility": null,
            "width": null
          }
        },
        "bbc03109e53c465cb1ab062fa7926087": {
          "model_module": "@jupyter-widgets/controls",
          "model_name": "DescriptionStyleModel",
          "model_module_version": "1.5.0",
          "state": {
            "_model_module": "@jupyter-widgets/controls",
            "_model_module_version": "1.5.0",
            "_model_name": "DescriptionStyleModel",
            "_view_count": null,
            "_view_module": "@jupyter-widgets/base",
            "_view_module_version": "1.2.0",
            "_view_name": "StyleView",
            "description_width": ""
          }
        },
        "addd84cb48b742cd82a9e77a0195d77f": {
          "model_module": "@jupyter-widgets/controls",
          "model_name": "HBoxModel",
          "model_module_version": "1.5.0",
          "state": {
            "_dom_classes": [],
            "_model_module": "@jupyter-widgets/controls",
            "_model_module_version": "1.5.0",
            "_model_name": "HBoxModel",
            "_view_count": null,
            "_view_module": "@jupyter-widgets/controls",
            "_view_module_version": "1.5.0",
            "_view_name": "HBoxView",
            "box_style": "",
            "children": [
              "IPY_MODEL_08731543ef4d4ccf9843c0c00aea119e",
              "IPY_MODEL_8a2adf3cdc9843fe8d2f26e1e0c0607a",
              "IPY_MODEL_26a8dabbf1bb43a2be9704c97d9394ab"
            ],
            "layout": "IPY_MODEL_c2654bf6de6e4764a7b9e714090f291d"
          }
        },
        "08731543ef4d4ccf9843c0c00aea119e": {
          "model_module": "@jupyter-widgets/controls",
          "model_name": "HTMLModel",
          "model_module_version": "1.5.0",
          "state": {
            "_dom_classes": [],
            "_model_module": "@jupyter-widgets/controls",
            "_model_module_version": "1.5.0",
            "_model_name": "HTMLModel",
            "_view_count": null,
            "_view_module": "@jupyter-widgets/controls",
            "_view_module_version": "1.5.0",
            "_view_name": "HTMLView",
            "description": "",
            "description_tooltip": null,
            "layout": "IPY_MODEL_ba3b9c7814a942ce8c414cd0b4c09d92",
            "placeholder": "​",
            "style": "IPY_MODEL_250c87e8caf94872b77fd0e19b61ad48",
            "value": "config.json: 100%"
          }
        },
        "8a2adf3cdc9843fe8d2f26e1e0c0607a": {
          "model_module": "@jupyter-widgets/controls",
          "model_name": "FloatProgressModel",
          "model_module_version": "1.5.0",
          "state": {
            "_dom_classes": [],
            "_model_module": "@jupyter-widgets/controls",
            "_model_module_version": "1.5.0",
            "_model_name": "FloatProgressModel",
            "_view_count": null,
            "_view_module": "@jupyter-widgets/controls",
            "_view_module_version": "1.5.0",
            "_view_name": "ProgressView",
            "bar_style": "success",
            "description": "",
            "description_tooltip": null,
            "layout": "IPY_MODEL_2f7af7bef550432eb19e730a6f14a1d7",
            "max": 483,
            "min": 0,
            "orientation": "horizontal",
            "style": "IPY_MODEL_a2a9af7fbf1449bebbd6590e84cb74fc",
            "value": 483
          }
        },
        "26a8dabbf1bb43a2be9704c97d9394ab": {
          "model_module": "@jupyter-widgets/controls",
          "model_name": "HTMLModel",
          "model_module_version": "1.5.0",
          "state": {
            "_dom_classes": [],
            "_model_module": "@jupyter-widgets/controls",
            "_model_module_version": "1.5.0",
            "_model_name": "HTMLModel",
            "_view_count": null,
            "_view_module": "@jupyter-widgets/controls",
            "_view_module_version": "1.5.0",
            "_view_name": "HTMLView",
            "description": "",
            "description_tooltip": null,
            "layout": "IPY_MODEL_8a2346af39cc40af979c496a4ef6210c",
            "placeholder": "​",
            "style": "IPY_MODEL_96c350ca8e8e4db79fa652b4c7e00f52",
            "value": " 483/483 [00:00&lt;00:00, 14.8kB/s]"
          }
        },
        "c2654bf6de6e4764a7b9e714090f291d": {
          "model_module": "@jupyter-widgets/base",
          "model_name": "LayoutModel",
          "model_module_version": "1.2.0",
          "state": {
            "_model_module": "@jupyter-widgets/base",
            "_model_module_version": "1.2.0",
            "_model_name": "LayoutModel",
            "_view_count": null,
            "_view_module": "@jupyter-widgets/base",
            "_view_module_version": "1.2.0",
            "_view_name": "LayoutView",
            "align_content": null,
            "align_items": null,
            "align_self": null,
            "border": null,
            "bottom": null,
            "display": null,
            "flex": null,
            "flex_flow": null,
            "grid_area": null,
            "grid_auto_columns": null,
            "grid_auto_flow": null,
            "grid_auto_rows": null,
            "grid_column": null,
            "grid_gap": null,
            "grid_row": null,
            "grid_template_areas": null,
            "grid_template_columns": null,
            "grid_template_rows": null,
            "height": null,
            "justify_content": null,
            "justify_items": null,
            "left": null,
            "margin": null,
            "max_height": null,
            "max_width": null,
            "min_height": null,
            "min_width": null,
            "object_fit": null,
            "object_position": null,
            "order": null,
            "overflow": null,
            "overflow_x": null,
            "overflow_y": null,
            "padding": null,
            "right": null,
            "top": null,
            "visibility": null,
            "width": null
          }
        },
        "ba3b9c7814a942ce8c414cd0b4c09d92": {
          "model_module": "@jupyter-widgets/base",
          "model_name": "LayoutModel",
          "model_module_version": "1.2.0",
          "state": {
            "_model_module": "@jupyter-widgets/base",
            "_model_module_version": "1.2.0",
            "_model_name": "LayoutModel",
            "_view_count": null,
            "_view_module": "@jupyter-widgets/base",
            "_view_module_version": "1.2.0",
            "_view_name": "LayoutView",
            "align_content": null,
            "align_items": null,
            "align_self": null,
            "border": null,
            "bottom": null,
            "display": null,
            "flex": null,
            "flex_flow": null,
            "grid_area": null,
            "grid_auto_columns": null,
            "grid_auto_flow": null,
            "grid_auto_rows": null,
            "grid_column": null,
            "grid_gap": null,
            "grid_row": null,
            "grid_template_areas": null,
            "grid_template_columns": null,
            "grid_template_rows": null,
            "height": null,
            "justify_content": null,
            "justify_items": null,
            "left": null,
            "margin": null,
            "max_height": null,
            "max_width": null,
            "min_height": null,
            "min_width": null,
            "object_fit": null,
            "object_position": null,
            "order": null,
            "overflow": null,
            "overflow_x": null,
            "overflow_y": null,
            "padding": null,
            "right": null,
            "top": null,
            "visibility": null,
            "width": null
          }
        },
        "250c87e8caf94872b77fd0e19b61ad48": {
          "model_module": "@jupyter-widgets/controls",
          "model_name": "DescriptionStyleModel",
          "model_module_version": "1.5.0",
          "state": {
            "_model_module": "@jupyter-widgets/controls",
            "_model_module_version": "1.5.0",
            "_model_name": "DescriptionStyleModel",
            "_view_count": null,
            "_view_module": "@jupyter-widgets/base",
            "_view_module_version": "1.2.0",
            "_view_name": "StyleView",
            "description_width": ""
          }
        },
        "2f7af7bef550432eb19e730a6f14a1d7": {
          "model_module": "@jupyter-widgets/base",
          "model_name": "LayoutModel",
          "model_module_version": "1.2.0",
          "state": {
            "_model_module": "@jupyter-widgets/base",
            "_model_module_version": "1.2.0",
            "_model_name": "LayoutModel",
            "_view_count": null,
            "_view_module": "@jupyter-widgets/base",
            "_view_module_version": "1.2.0",
            "_view_name": "LayoutView",
            "align_content": null,
            "align_items": null,
            "align_self": null,
            "border": null,
            "bottom": null,
            "display": null,
            "flex": null,
            "flex_flow": null,
            "grid_area": null,
            "grid_auto_columns": null,
            "grid_auto_flow": null,
            "grid_auto_rows": null,
            "grid_column": null,
            "grid_gap": null,
            "grid_row": null,
            "grid_template_areas": null,
            "grid_template_columns": null,
            "grid_template_rows": null,
            "height": null,
            "justify_content": null,
            "justify_items": null,
            "left": null,
            "margin": null,
            "max_height": null,
            "max_width": null,
            "min_height": null,
            "min_width": null,
            "object_fit": null,
            "object_position": null,
            "order": null,
            "overflow": null,
            "overflow_x": null,
            "overflow_y": null,
            "padding": null,
            "right": null,
            "top": null,
            "visibility": null,
            "width": null
          }
        },
        "a2a9af7fbf1449bebbd6590e84cb74fc": {
          "model_module": "@jupyter-widgets/controls",
          "model_name": "ProgressStyleModel",
          "model_module_version": "1.5.0",
          "state": {
            "_model_module": "@jupyter-widgets/controls",
            "_model_module_version": "1.5.0",
            "_model_name": "ProgressStyleModel",
            "_view_count": null,
            "_view_module": "@jupyter-widgets/base",
            "_view_module_version": "1.2.0",
            "_view_name": "StyleView",
            "bar_color": null,
            "description_width": ""
          }
        },
        "8a2346af39cc40af979c496a4ef6210c": {
          "model_module": "@jupyter-widgets/base",
          "model_name": "LayoutModel",
          "model_module_version": "1.2.0",
          "state": {
            "_model_module": "@jupyter-widgets/base",
            "_model_module_version": "1.2.0",
            "_model_name": "LayoutModel",
            "_view_count": null,
            "_view_module": "@jupyter-widgets/base",
            "_view_module_version": "1.2.0",
            "_view_name": "LayoutView",
            "align_content": null,
            "align_items": null,
            "align_self": null,
            "border": null,
            "bottom": null,
            "display": null,
            "flex": null,
            "flex_flow": null,
            "grid_area": null,
            "grid_auto_columns": null,
            "grid_auto_flow": null,
            "grid_auto_rows": null,
            "grid_column": null,
            "grid_gap": null,
            "grid_row": null,
            "grid_template_areas": null,
            "grid_template_columns": null,
            "grid_template_rows": null,
            "height": null,
            "justify_content": null,
            "justify_items": null,
            "left": null,
            "margin": null,
            "max_height": null,
            "max_width": null,
            "min_height": null,
            "min_width": null,
            "object_fit": null,
            "object_position": null,
            "order": null,
            "overflow": null,
            "overflow_x": null,
            "overflow_y": null,
            "padding": null,
            "right": null,
            "top": null,
            "visibility": null,
            "width": null
          }
        },
        "96c350ca8e8e4db79fa652b4c7e00f52": {
          "model_module": "@jupyter-widgets/controls",
          "model_name": "DescriptionStyleModel",
          "model_module_version": "1.5.0",
          "state": {
            "_model_module": "@jupyter-widgets/controls",
            "_model_module_version": "1.5.0",
            "_model_name": "DescriptionStyleModel",
            "_view_count": null,
            "_view_module": "@jupyter-widgets/base",
            "_view_module_version": "1.2.0",
            "_view_name": "StyleView",
            "description_width": ""
          }
        },
        "e3f0a6ae2a7f4e9f8944dc46d96e8907": {
          "model_module": "@jupyter-widgets/controls",
          "model_name": "HBoxModel",
          "model_module_version": "1.5.0",
          "state": {
            "_dom_classes": [],
            "_model_module": "@jupyter-widgets/controls",
            "_model_module_version": "1.5.0",
            "_model_name": "HBoxModel",
            "_view_count": null,
            "_view_module": "@jupyter-widgets/controls",
            "_view_module_version": "1.5.0",
            "_view_name": "HBoxView",
            "box_style": "",
            "children": [
              "IPY_MODEL_795d5955a1194c56a012c28b5e023500",
              "IPY_MODEL_72aa4d565e7f4fc49660c893f9d776f4",
              "IPY_MODEL_43de4788003f4f94b501749f5871ef07"
            ],
            "layout": "IPY_MODEL_b249898f54d9415ebe9a07d031368f49"
          }
        },
        "795d5955a1194c56a012c28b5e023500": {
          "model_module": "@jupyter-widgets/controls",
          "model_name": "HTMLModel",
          "model_module_version": "1.5.0",
          "state": {
            "_dom_classes": [],
            "_model_module": "@jupyter-widgets/controls",
            "_model_module_version": "1.5.0",
            "_model_name": "HTMLModel",
            "_view_count": null,
            "_view_module": "@jupyter-widgets/controls",
            "_view_module_version": "1.5.0",
            "_view_name": "HTMLView",
            "description": "",
            "description_tooltip": null,
            "layout": "IPY_MODEL_6928e0af41814110a2ea963a505df2ff",
            "placeholder": "​",
            "style": "IPY_MODEL_78fb3d80970849a4a517e7de980a57fd",
            "value": "model.safetensors: 100%"
          }
        },
        "72aa4d565e7f4fc49660c893f9d776f4": {
          "model_module": "@jupyter-widgets/controls",
          "model_name": "FloatProgressModel",
          "model_module_version": "1.5.0",
          "state": {
            "_dom_classes": [],
            "_model_module": "@jupyter-widgets/controls",
            "_model_module_version": "1.5.0",
            "_model_name": "FloatProgressModel",
            "_view_count": null,
            "_view_module": "@jupyter-widgets/controls",
            "_view_module_version": "1.5.0",
            "_view_name": "ProgressView",
            "bar_style": "success",
            "description": "",
            "description_tooltip": null,
            "layout": "IPY_MODEL_dcbf03ae441349a68bc4259348f92af9",
            "max": 267954768,
            "min": 0,
            "orientation": "horizontal",
            "style": "IPY_MODEL_2e93fabf207843b6ac5e61eea1c0a780",
            "value": 267954768
          }
        },
        "43de4788003f4f94b501749f5871ef07": {
          "model_module": "@jupyter-widgets/controls",
          "model_name": "HTMLModel",
          "model_module_version": "1.5.0",
          "state": {
            "_dom_classes": [],
            "_model_module": "@jupyter-widgets/controls",
            "_model_module_version": "1.5.0",
            "_model_name": "HTMLModel",
            "_view_count": null,
            "_view_module": "@jupyter-widgets/controls",
            "_view_module_version": "1.5.0",
            "_view_name": "HTMLView",
            "description": "",
            "description_tooltip": null,
            "layout": "IPY_MODEL_8742165e6b42457e816d7514b95d3497",
            "placeholder": "​",
            "style": "IPY_MODEL_918846865fae4cd298bb3d2fb197d2db",
            "value": " 268M/268M [00:01&lt;00:00, 247MB/s]"
          }
        },
        "b249898f54d9415ebe9a07d031368f49": {
          "model_module": "@jupyter-widgets/base",
          "model_name": "LayoutModel",
          "model_module_version": "1.2.0",
          "state": {
            "_model_module": "@jupyter-widgets/base",
            "_model_module_version": "1.2.0",
            "_model_name": "LayoutModel",
            "_view_count": null,
            "_view_module": "@jupyter-widgets/base",
            "_view_module_version": "1.2.0",
            "_view_name": "LayoutView",
            "align_content": null,
            "align_items": null,
            "align_self": null,
            "border": null,
            "bottom": null,
            "display": null,
            "flex": null,
            "flex_flow": null,
            "grid_area": null,
            "grid_auto_columns": null,
            "grid_auto_flow": null,
            "grid_auto_rows": null,
            "grid_column": null,
            "grid_gap": null,
            "grid_row": null,
            "grid_template_areas": null,
            "grid_template_columns": null,
            "grid_template_rows": null,
            "height": null,
            "justify_content": null,
            "justify_items": null,
            "left": null,
            "margin": null,
            "max_height": null,
            "max_width": null,
            "min_height": null,
            "min_width": null,
            "object_fit": null,
            "object_position": null,
            "order": null,
            "overflow": null,
            "overflow_x": null,
            "overflow_y": null,
            "padding": null,
            "right": null,
            "top": null,
            "visibility": null,
            "width": null
          }
        },
        "6928e0af41814110a2ea963a505df2ff": {
          "model_module": "@jupyter-widgets/base",
          "model_name": "LayoutModel",
          "model_module_version": "1.2.0",
          "state": {
            "_model_module": "@jupyter-widgets/base",
            "_model_module_version": "1.2.0",
            "_model_name": "LayoutModel",
            "_view_count": null,
            "_view_module": "@jupyter-widgets/base",
            "_view_module_version": "1.2.0",
            "_view_name": "LayoutView",
            "align_content": null,
            "align_items": null,
            "align_self": null,
            "border": null,
            "bottom": null,
            "display": null,
            "flex": null,
            "flex_flow": null,
            "grid_area": null,
            "grid_auto_columns": null,
            "grid_auto_flow": null,
            "grid_auto_rows": null,
            "grid_column": null,
            "grid_gap": null,
            "grid_row": null,
            "grid_template_areas": null,
            "grid_template_columns": null,
            "grid_template_rows": null,
            "height": null,
            "justify_content": null,
            "justify_items": null,
            "left": null,
            "margin": null,
            "max_height": null,
            "max_width": null,
            "min_height": null,
            "min_width": null,
            "object_fit": null,
            "object_position": null,
            "order": null,
            "overflow": null,
            "overflow_x": null,
            "overflow_y": null,
            "padding": null,
            "right": null,
            "top": null,
            "visibility": null,
            "width": null
          }
        },
        "78fb3d80970849a4a517e7de980a57fd": {
          "model_module": "@jupyter-widgets/controls",
          "model_name": "DescriptionStyleModel",
          "model_module_version": "1.5.0",
          "state": {
            "_model_module": "@jupyter-widgets/controls",
            "_model_module_version": "1.5.0",
            "_model_name": "DescriptionStyleModel",
            "_view_count": null,
            "_view_module": "@jupyter-widgets/base",
            "_view_module_version": "1.2.0",
            "_view_name": "StyleView",
            "description_width": ""
          }
        },
        "dcbf03ae441349a68bc4259348f92af9": {
          "model_module": "@jupyter-widgets/base",
          "model_name": "LayoutModel",
          "model_module_version": "1.2.0",
          "state": {
            "_model_module": "@jupyter-widgets/base",
            "_model_module_version": "1.2.0",
            "_model_name": "LayoutModel",
            "_view_count": null,
            "_view_module": "@jupyter-widgets/base",
            "_view_module_version": "1.2.0",
            "_view_name": "LayoutView",
            "align_content": null,
            "align_items": null,
            "align_self": null,
            "border": null,
            "bottom": null,
            "display": null,
            "flex": null,
            "flex_flow": null,
            "grid_area": null,
            "grid_auto_columns": null,
            "grid_auto_flow": null,
            "grid_auto_rows": null,
            "grid_column": null,
            "grid_gap": null,
            "grid_row": null,
            "grid_template_areas": null,
            "grid_template_columns": null,
            "grid_template_rows": null,
            "height": null,
            "justify_content": null,
            "justify_items": null,
            "left": null,
            "margin": null,
            "max_height": null,
            "max_width": null,
            "min_height": null,
            "min_width": null,
            "object_fit": null,
            "object_position": null,
            "order": null,
            "overflow": null,
            "overflow_x": null,
            "overflow_y": null,
            "padding": null,
            "right": null,
            "top": null,
            "visibility": null,
            "width": null
          }
        },
        "2e93fabf207843b6ac5e61eea1c0a780": {
          "model_module": "@jupyter-widgets/controls",
          "model_name": "ProgressStyleModel",
          "model_module_version": "1.5.0",
          "state": {
            "_model_module": "@jupyter-widgets/controls",
            "_model_module_version": "1.5.0",
            "_model_name": "ProgressStyleModel",
            "_view_count": null,
            "_view_module": "@jupyter-widgets/base",
            "_view_module_version": "1.2.0",
            "_view_name": "StyleView",
            "bar_color": null,
            "description_width": ""
          }
        },
        "8742165e6b42457e816d7514b95d3497": {
          "model_module": "@jupyter-widgets/base",
          "model_name": "LayoutModel",
          "model_module_version": "1.2.0",
          "state": {
            "_model_module": "@jupyter-widgets/base",
            "_model_module_version": "1.2.0",
            "_model_name": "LayoutModel",
            "_view_count": null,
            "_view_module": "@jupyter-widgets/base",
            "_view_module_version": "1.2.0",
            "_view_name": "LayoutView",
            "align_content": null,
            "align_items": null,
            "align_self": null,
            "border": null,
            "bottom": null,
            "display": null,
            "flex": null,
            "flex_flow": null,
            "grid_area": null,
            "grid_auto_columns": null,
            "grid_auto_flow": null,
            "grid_auto_rows": null,
            "grid_column": null,
            "grid_gap": null,
            "grid_row": null,
            "grid_template_areas": null,
            "grid_template_columns": null,
            "grid_template_rows": null,
            "height": null,
            "justify_content": null,
            "justify_items": null,
            "left": null,
            "margin": null,
            "max_height": null,
            "max_width": null,
            "min_height": null,
            "min_width": null,
            "object_fit": null,
            "object_position": null,
            "order": null,
            "overflow": null,
            "overflow_x": null,
            "overflow_y": null,
            "padding": null,
            "right": null,
            "top": null,
            "visibility": null,
            "width": null
          }
        },
        "918846865fae4cd298bb3d2fb197d2db": {
          "model_module": "@jupyter-widgets/controls",
          "model_name": "DescriptionStyleModel",
          "model_module_version": "1.5.0",
          "state": {
            "_model_module": "@jupyter-widgets/controls",
            "_model_module_version": "1.5.0",
            "_model_name": "DescriptionStyleModel",
            "_view_count": null,
            "_view_module": "@jupyter-widgets/base",
            "_view_module_version": "1.2.0",
            "_view_name": "StyleView",
            "description_width": ""
          }
        }
      }
    }
  },
  "cells": [
    {
      "cell_type": "code",
      "source": [
        "import torch\n",
        "from torch.utils.data import DataLoader, TensorDataset\n",
        "from transformers import DistilBertTokenizer, DistilBertForSequenceClassification, AdamW\n",
        "from tqdm import tqdm\n",
        "import time\n",
        "import pandas as pd\n",
        "import numpy as np\n",
        "from sklearn.model_selection import train_test_split\n",
        "from sklearn.utils import shuffle\n",
        "from torch.optim import SGD"
      ],
      "metadata": {
        "id": "qSBuq-9bDeDK"
      },
      "execution_count": null,
      "outputs": []
    },
    {
      "cell_type": "code",
      "source": [
        "# Check if GPU is available\n",
        "device = torch.device(\"cuda\" if torch.cuda.is_available() else \"cpu\")"
      ],
      "metadata": {
        "id": "lOYm0KZMDfW-"
      },
      "execution_count": null,
      "outputs": []
    },
    {
      "cell_type": "code",
      "source": [
        "# Load the data\n",
        "df = pd.read_csv('/content/drive/MyDrive/total_comments_labelled.csv')\n",
        "\n",
        "# Sample and preprocess data\n",
        "seed_value = 42\n",
        "non_toxic_comments = df[(df['toxic'] == 0) & (df['severe_toxic'] == 0) & (df['threat'] == 0) & (df['identity_attack'] == 0)].body\n",
        "toxic_comments = df[df['toxic'] == 1].body"
      ],
      "metadata": {
        "id": "BUQHE_WMStjv"
      },
      "execution_count": null,
      "outputs": []
    },
    {
      "cell_type": "code",
      "source": [
        "toxic_comments = toxic_comments.sample(n=12000, random_state=seed_value)\n",
        "non_toxic_comments = non_toxic_comments.sample(n=12000, random_state=seed_value)\n",
        "\n",
        "toxic_comments, non_toxic_comments = shuffle(toxic_comments, non_toxic_comments, random_state=seed_value)"
      ],
      "metadata": {
        "id": "olQAbPosRHWC"
      },
      "execution_count": null,
      "outputs": []
    },
    {
      "cell_type": "code",
      "source": [
        "toxic_comments.head()"
      ],
      "metadata": {
        "colab": {
          "base_uri": "https://localhost:8080/"
        },
        "id": "J8Ht6zY6AZog",
        "outputId": "57b8315b-a139-4870-8acc-3a521d76145d"
      },
      "execution_count": null,
      "outputs": [
        {
          "output_type": "execute_result",
          "data": {
            "text/plain": [
              "154802                Wanker doesn't even live in the UK :X\n",
              "60300     Does a blowjob count? I paid for a really good...\n",
              "7740      Babe, he is prepping you for him not having to...\n",
              "188       > Is that the encounter where her dick was big...\n",
              "10355     If we thought we were perfect, maybe we'd stop...\n",
              "Name: body, dtype: object"
            ]
          },
          "metadata": {},
          "execution_count": 5
        }
      ]
    },
    {
      "cell_type": "code",
      "source": [
        "non_toxic_comments.head()"
      ],
      "metadata": {
        "colab": {
          "base_uri": "https://localhost:8080/"
        },
        "id": "TNPzS9N4Acer",
        "outputId": "e128004b-4eb3-4e28-c51f-eaea8bd30354"
      },
      "execution_count": null,
      "outputs": [
        {
          "output_type": "execute_result",
          "data": {
            "text/plain": [
              "70922    Do you guys have a car you can use? Or really ...\n",
              "78827    Maybe I’m just immune to such tactics but I ne...\n",
              "83690    First who come to mind:  WoW, Witcher 3, Elden...\n",
              "32235                                     What is ArtRage?\n",
              "61451       He’s been in good movies. There’s a differencd\n",
              "Name: body, dtype: object"
            ]
          },
          "metadata": {},
          "execution_count": 6
        }
      ]
    },
    {
      "cell_type": "code",
      "source": [
        "toxic_comments = toxic_comments.tolist()\n",
        "non_toxic_comments = non_toxic_comments.tolist()\n",
        "\n",
        "non_toxic_labels = [0] * len(non_toxic_comments)\n",
        "toxic_labels = [1] * len(toxic_comments)\n",
        "\n",
        "all_comments = non_toxic_comments + toxic_comments\n",
        "all_labels = non_toxic_labels + toxic_labels"
      ],
      "metadata": {
        "id": "lFlI0z8CDhiV"
      },
      "execution_count": null,
      "outputs": []
    },
    {
      "cell_type": "code",
      "source": [
        "import re\n",
        "import nltk"
      ],
      "metadata": {
        "id": "64fvYOC1YFa_"
      },
      "execution_count": null,
      "outputs": []
    },
    {
      "cell_type": "code",
      "source": [
        "# Ensure all_comments is a list of strings\n",
        "all_comments = [str(comment) for comment in all_comments]"
      ],
      "metadata": {
        "id": "ltMxs8wWDRgf"
      },
      "execution_count": null,
      "outputs": []
    },
    {
      "cell_type": "code",
      "source": [
        "all_comments = [comment.lower() for comment in all_comments]\n",
        "\n",
        "from nltk.corpus import stopwords\n",
        "nltk.download('stopwords')\n",
        "\n",
        "all_comments = [re.sub(r'[^a-zA-Z\\s]', '', comment) for comment in all_comments]\n",
        "\n",
        "stop_words = set(stopwords.words('english'))\n",
        "all_comments = [' '.join([word for word in comment.split() if word.lower() not in stop_words]) for comment in all_comments]"
      ],
      "metadata": {
        "colab": {
          "base_uri": "https://localhost:8080/"
        },
        "id": "3SsJPbqAXMOk",
        "outputId": "f6bb47b8-bb6f-4b31-a62c-4c2743370b3b"
      },
      "execution_count": null,
      "outputs": [
        {
          "output_type": "stream",
          "name": "stderr",
          "text": [
            "[nltk_data] Downloading package stopwords to /root/nltk_data...\n",
            "[nltk_data]   Unzipping corpora/stopwords.zip.\n"
          ]
        }
      ]
    },
    {
      "cell_type": "code",
      "source": [
        "from sklearn.feature_extraction.text import CountVectorizer\n",
        "from sklearn.model_selection import train_test_split\n",
        "from sklearn.linear_model import LogisticRegression\n",
        "from sklearn.ensemble import RandomForestClassifier\n",
        "from sklearn.tree import DecisionTreeClassifier\n",
        "from xgboost import XGBClassifier\n",
        "from sklearn.metrics import accuracy_score, precision_recall_fscore_support\n",
        "import matplotlib.pyplot as plt"
      ],
      "metadata": {
        "id": "bKozeIWS-uE1"
      },
      "execution_count": null,
      "outputs": []
    },
    {
      "cell_type": "code",
      "source": [
        "# Tokenize using CountVectorizer\n",
        "vectorizer = CountVectorizer()\n",
        "X = vectorizer.fit_transform(all_comments)\n",
        "\n",
        "# Split data into train, validation, and test sets\n",
        "X_train, X_temp, y_train, y_temp = train_test_split(X, all_labels, test_size=0.4, random_state=42)\n",
        "X_val, X_test, y_val, y_test = train_test_split(X_temp, y_temp, test_size=0.5, random_state=42)"
      ],
      "metadata": {
        "id": "N1FFAxuO-p3O"
      },
      "execution_count": null,
      "outputs": []
    },
    {
      "cell_type": "code",
      "source": [
        "# Initialize models\n",
        "logistic_regression_model = LogisticRegression()\n",
        "random_forest_model = RandomForestClassifier()\n",
        "decision_tree_model = DecisionTreeClassifier()\n",
        "xgboost_model = XGBClassifier()"
      ],
      "metadata": {
        "id": "hVzFh-pu-mo9"
      },
      "execution_count": null,
      "outputs": []
    },
    {
      "cell_type": "code",
      "source": [
        "# Train and evaluate each model\n",
        "models = [logistic_regression_model, random_forest_model, decision_tree_model, xgboost_model]\n",
        "\n",
        "for model in models:\n",
        "    print(f\"\\nTraining and Evaluating {model.__class__.__name__}:\")\n",
        "    train_evaluate_sklearn_model(model, X_train, y_train, X_val, y_val, X_test, y_test)"
      ],
      "metadata": {
        "id": "bBybbzCI-h7p"
      },
      "execution_count": null,
      "outputs": []
    },
    {
      "cell_type": "code",
      "source": [
        "def train_evaluate_sklearn_model(model, X_train, y_train, X_val, y_val, X_test, y_test, epochs=10):\n",
        "    train_accuracies = []\n",
        "    val_accuracies = []\n",
        "    train_losses = []\n",
        "\n",
        "    for epoch in range(epochs):\n",
        "        # Train the model for one epoch\n",
        "        model.fit(X_train, y_train)\n",
        "\n",
        "        # Predictions on training set\n",
        "        train_predictions = model.predict(X_train)\n",
        "        train_loss = accuracy_score(y_train, train_predictions)\n",
        "        train_losses.append(train_loss)\n",
        "\n",
        "        # Predictions on validation set\n",
        "        val_predictions = model.predict(X_val)\n",
        "        val_accuracy = accuracy_score(y_val, val_predictions)\n",
        "        val_accuracies.append(val_accuracy)\n",
        "\n",
        "        # Predictions on test set\n",
        "        test_predictions = model.predict(X_test)\n",
        "        test_accuracy = accuracy_score(y_test, test_predictions)\n",
        "\n",
        "        # Compute precision, recall, f1-score for test set\n",
        "        precision, recall, f1_score, _ = precision_recall_fscore_support(y_test, test_predictions, average='binary')\n",
        "\n",
        "        # Display results for each epoch\n",
        "        print(f\"\\nEpoch {epoch + 1}/{epochs}:\")\n",
        "        print(f\"Training Loss: {train_loss:.4f}\")\n",
        "        print(f\"Validation Accuracy: {val_accuracy:.4f}\")\n",
        "        print(f\"Test Accuracy: {test_accuracy:.4f}\")\n",
        "        print(f\"Test Precision: {precision:.4f}\")\n",
        "        print(f\"Test Recall: {recall:.4f}\")\n",
        "        print(f\"Test F1-Score: {f1_score:.4f}\")\n",
        "\n",
        "    # Plot accuracy and training loss over epochs\n",
        "    epoch_numbers = np.arange(1, epochs + 1)\n",
        "    plt.plot(epoch_numbers, train_losses, label='Training Loss')\n",
        "    plt.plot(epoch_numbers, val_accuracies, label='Validation Accuracy')\n",
        "    plt.xlabel('Epochs')\n",
        "    plt.ylabel('Metric')\n",
        "    plt.title(f'Training Loss and Accuracy Over {epochs} Epochs')\n",
        "    plt.legend()\n",
        "    plt.show()\n",
        "\n",
        "# Tokenize using CountVectorizer\n",
        "vectorizer = CountVectorizer()\n",
        "X = vectorizer.fit_transform(all_comments)\n",
        "\n",
        "# Split data into train, validation, and test sets\n",
        "X_train, X_temp, y_train, y_temp = train_test_split(X, all_labels, test_size=0.4, random_state=42)\n",
        "X_val, X_test, y_val, y_test = train_test_split(X_temp, y_temp, test_size=0.5, random_state=42)\n",
        "\n",
        "# Initialize models\n",
        "logistic_regression_model = LogisticRegression()\n",
        "random_forest_model = RandomForestClassifier()\n",
        "decision_tree_model = DecisionTreeClassifier()\n",
        "xgboost_model = XGBClassifier()\n",
        "\n",
        "# Train and evaluate each model with accuracy and training loss over epochs\n",
        "models = [logistic_regression_model, random_forest_model, decision_tree_model, xgboost_model]\n",
        "\n",
        "for model in models:\n",
        "    print(f\"\\nTraining and Evaluating {model.__class__.__name__}:\")\n",
        "    train_evaluate_sklearn_model(model, X_train, y_train, X_val, y_val, X_test, y_test, epochs=10)\n"
      ],
      "metadata": {
        "colab": {
          "base_uri": "https://localhost:8080/",
          "height": 1000
        },
        "id": "Ct-rPW2wdp6T",
        "outputId": "7e3a4ae5-7dba-48f5-a4c5-3802aed378f6"
      },
      "execution_count": null,
      "outputs": [
        {
          "output_type": "stream",
          "name": "stdout",
          "text": [
            "\n",
            "Training and Evaluating LogisticRegression:\n",
            "\n",
            "Epoch 1/10:\n",
            "Training Loss: 0.9993\n",
            "Validation Accuracy: 0.9948\n",
            "Test Accuracy: 0.9942\n",
            "Test Precision: 0.9883\n",
            "Test Recall: 1.0000\n",
            "Test F1-Score: 0.9941\n",
            "\n",
            "Epoch 2/10:\n",
            "Training Loss: 0.9993\n",
            "Validation Accuracy: 0.9948\n",
            "Test Accuracy: 0.9942\n",
            "Test Precision: 0.9883\n",
            "Test Recall: 1.0000\n",
            "Test F1-Score: 0.9941\n",
            "\n",
            "Epoch 3/10:\n",
            "Training Loss: 0.9993\n",
            "Validation Accuracy: 0.9948\n",
            "Test Accuracy: 0.9942\n",
            "Test Precision: 0.9883\n",
            "Test Recall: 1.0000\n",
            "Test F1-Score: 0.9941\n",
            "\n",
            "Epoch 4/10:\n",
            "Training Loss: 0.9993\n",
            "Validation Accuracy: 0.9948\n",
            "Test Accuracy: 0.9942\n",
            "Test Precision: 0.9883\n",
            "Test Recall: 1.0000\n",
            "Test F1-Score: 0.9941\n",
            "\n",
            "Epoch 5/10:\n",
            "Training Loss: 0.9993\n",
            "Validation Accuracy: 0.9948\n",
            "Test Accuracy: 0.9942\n",
            "Test Precision: 0.9883\n",
            "Test Recall: 1.0000\n",
            "Test F1-Score: 0.9941\n",
            "\n",
            "Epoch 6/10:\n",
            "Training Loss: 0.9993\n",
            "Validation Accuracy: 0.9948\n",
            "Test Accuracy: 0.9942\n",
            "Test Precision: 0.9883\n",
            "Test Recall: 1.0000\n",
            "Test F1-Score: 0.9941\n",
            "\n",
            "Epoch 7/10:\n",
            "Training Loss: 0.9993\n",
            "Validation Accuracy: 0.9948\n",
            "Test Accuracy: 0.9942\n",
            "Test Precision: 0.9883\n",
            "Test Recall: 1.0000\n",
            "Test F1-Score: 0.9941\n",
            "\n",
            "Epoch 8/10:\n",
            "Training Loss: 0.9993\n",
            "Validation Accuracy: 0.9948\n",
            "Test Accuracy: 0.9942\n",
            "Test Precision: 0.9883\n",
            "Test Recall: 1.0000\n",
            "Test F1-Score: 0.9941\n",
            "\n",
            "Epoch 9/10:\n",
            "Training Loss: 0.9993\n",
            "Validation Accuracy: 0.9948\n",
            "Test Accuracy: 0.9942\n",
            "Test Precision: 0.9883\n",
            "Test Recall: 1.0000\n",
            "Test F1-Score: 0.9941\n",
            "\n",
            "Epoch 10/10:\n",
            "Training Loss: 0.9993\n",
            "Validation Accuracy: 0.9948\n",
            "Test Accuracy: 0.9942\n",
            "Test Precision: 0.9883\n",
            "Test Recall: 1.0000\n",
            "Test F1-Score: 0.9941\n"
          ]
        },
        {
          "output_type": "display_data",
          "data": {
            "text/plain": [
              "<Figure size 640x480 with 1 Axes>"
            ],
            "image/png": "[encoded data removed]"
          },
          "metadata": {}
        },
        {
          "output_type": "stream",
          "name": "stdout",
          "text": [
            "\n",
            "Training and Evaluating RandomForestClassifier:\n",
            "\n",
            "Epoch 1/10:\n",
            "Training Loss: 1.0000\n",
            "Validation Accuracy: 0.9971\n",
            "Test Accuracy: 0.9975\n",
            "Test Precision: 0.9954\n",
            "Test Recall: 0.9996\n",
            "Test F1-Score: 0.9975\n",
            "\n",
            "Epoch 2/10:\n",
            "Training Loss: 1.0000\n",
            "Validation Accuracy: 0.9962\n",
            "Test Accuracy: 0.9958\n",
            "Test Precision: 0.9920\n",
            "Test Recall: 0.9996\n",
            "Test F1-Score: 0.9958\n",
            "\n",
            "Epoch 3/10:\n",
            "Training Loss: 1.0000\n",
            "Validation Accuracy: 0.9971\n",
            "Test Accuracy: 0.9965\n",
            "Test Precision: 0.9933\n",
            "Test Recall: 0.9996\n",
            "Test F1-Score: 0.9964\n",
            "\n",
            "Epoch 4/10:\n",
            "Training Loss: 1.0000\n",
            "Validation Accuracy: 0.9971\n",
            "Test Accuracy: 0.9965\n",
            "Test Precision: 0.9933\n",
            "Test Recall: 0.9996\n",
            "Test F1-Score: 0.9964\n",
            "\n",
            "Epoch 5/10:\n",
            "Training Loss: 1.0000\n",
            "Validation Accuracy: 0.9962\n",
            "Test Accuracy: 0.9971\n",
            "Test Precision: 0.9945\n",
            "Test Recall: 0.9996\n",
            "Test F1-Score: 0.9970\n",
            "\n",
            "Epoch 6/10:\n",
            "Training Loss: 1.0000\n",
            "Validation Accuracy: 0.9965\n",
            "Test Accuracy: 0.9971\n",
            "Test Precision: 0.9945\n",
            "Test Recall: 0.9996\n",
            "Test F1-Score: 0.9970\n",
            "\n",
            "Epoch 7/10:\n",
            "Training Loss: 1.0000\n",
            "Validation Accuracy: 0.9975\n",
            "Test Accuracy: 0.9983\n",
            "Test Precision: 0.9970\n",
            "Test Recall: 0.9996\n",
            "Test F1-Score: 0.9983\n",
            "\n",
            "Epoch 8/10:\n",
            "Training Loss: 1.0000\n",
            "Validation Accuracy: 0.9981\n",
            "Test Accuracy: 0.9981\n",
            "Test Precision: 0.9966\n",
            "Test Recall: 0.9996\n",
            "Test F1-Score: 0.9981\n",
            "\n",
            "Epoch 9/10:\n",
            "Training Loss: 1.0000\n",
            "Validation Accuracy: 0.9969\n",
            "Test Accuracy: 0.9967\n",
            "Test Precision: 0.9937\n",
            "Test Recall: 0.9996\n",
            "Test F1-Score: 0.9966\n",
            "\n",
            "Epoch 10/10:\n",
            "Training Loss: 1.0000\n",
            "Validation Accuracy: 0.9975\n",
            "Test Accuracy: 0.9971\n",
            "Test Precision: 0.9945\n",
            "Test Recall: 0.9996\n",
            "Test F1-Score: 0.9970\n"
          ]
        },
        {
          "output_type": "display_data",
          "data": {
            "text/plain": [
              "<Figure size 640x480 with 1 Axes>"
            ],
            "image/png": "[encoded data removed]"
          },
          "metadata": {}
        },
        {
          "output_type": "stream",
          "name": "stdout",
          "text": [
            "\n",
            "Training and Evaluating DecisionTreeClassifier:\n",
            "\n",
            "Epoch 1/10:\n",
            "Training Loss: 1.0000\n",
            "Validation Accuracy: 0.9881\n",
            "Test Accuracy: 0.9879\n",
            "Test Precision: 0.9760\n",
            "Test Recall: 1.0000\n",
            "Test F1-Score: 0.9878\n",
            "\n",
            "Epoch 2/10:\n",
            "Training Loss: 1.0000\n",
            "Validation Accuracy: 0.9892\n",
            "Test Accuracy: 0.9879\n",
            "Test Precision: 0.9760\n",
            "Test Recall: 1.0000\n",
            "Test F1-Score: 0.9878\n",
            "\n",
            "Epoch 3/10:\n",
            "Training Loss: 1.0000\n",
            "Validation Accuracy: 0.9888\n",
            "Test Accuracy: 0.9877\n",
            "Test Precision: 0.9756\n",
            "Test Recall: 1.0000\n",
            "Test F1-Score: 0.9876\n",
            "\n",
            "Epoch 4/10:\n",
            "Training Loss: 1.0000\n",
            "Validation Accuracy: 0.9885\n",
            "Test Accuracy: 0.9869\n",
            "Test Precision: 0.9740\n",
            "Test Recall: 1.0000\n",
            "Test F1-Score: 0.9868\n",
            "\n",
            "Epoch 5/10:\n",
            "Training Loss: 1.0000\n",
            "Validation Accuracy: 0.9875\n",
            "Test Accuracy: 0.9879\n",
            "Test Precision: 0.9760\n",
            "Test Recall: 1.0000\n",
            "Test F1-Score: 0.9878\n",
            "\n",
            "Epoch 6/10:\n",
            "Training Loss: 1.0000\n",
            "Validation Accuracy: 0.9873\n",
            "Test Accuracy: 0.9865\n",
            "Test Precision: 0.9732\n",
            "Test Recall: 1.0000\n",
            "Test F1-Score: 0.9864\n",
            "\n",
            "Epoch 7/10:\n",
            "Training Loss: 1.0000\n",
            "Validation Accuracy: 0.9875\n",
            "Test Accuracy: 0.9869\n",
            "Test Precision: 0.9740\n",
            "Test Recall: 1.0000\n",
            "Test F1-Score: 0.9868\n",
            "\n",
            "Epoch 8/10:\n",
            "Training Loss: 1.0000\n",
            "Validation Accuracy: 0.9877\n",
            "Test Accuracy: 0.9871\n",
            "Test Precision: 0.9744\n",
            "Test Recall: 1.0000\n",
            "Test F1-Score: 0.9870\n",
            "\n",
            "Epoch 9/10:\n",
            "Training Loss: 1.0000\n",
            "Validation Accuracy: 0.9873\n",
            "Test Accuracy: 0.9860\n",
            "Test Precision: 0.9724\n",
            "Test Recall: 1.0000\n",
            "Test F1-Score: 0.9860\n",
            "\n",
            "Epoch 10/10:\n",
            "Training Loss: 1.0000\n",
            "Validation Accuracy: 0.9883\n",
            "Test Accuracy: 0.9873\n",
            "Test Precision: 0.9748\n",
            "Test Recall: 1.0000\n",
            "Test F1-Score: 0.9872\n"
          ]
        },
        {
          "output_type": "display_data",
          "data": {
            "text/plain": [
              "<Figure size 640x480 with 1 Axes>"
            ],
            "image/png": "[encoded data removed]"
          },
          "metadata": {}
        },
        {
          "output_type": "stream",
          "name": "stdout",
          "text": [
            "\n",
            "Training and Evaluating XGBClassifier:\n",
            "\n",
            "Epoch 1/10:\n",
            "Training Loss: 0.9745\n",
            "Validation Accuracy: 0.9604\n",
            "Test Accuracy: 0.9621\n",
            "Test Precision: 0.9780\n",
            "Test Recall: 0.9440\n",
            "Test F1-Score: 0.9607\n",
            "\n",
            "Epoch 2/10:\n",
            "Training Loss: 0.9745\n",
            "Validation Accuracy: 0.9604\n",
            "Test Accuracy: 0.9621\n",
            "Test Precision: 0.9780\n",
            "Test Recall: 0.9440\n",
            "Test F1-Score: 0.9607\n",
            "\n",
            "Epoch 3/10:\n",
            "Training Loss: 0.9745\n",
            "Validation Accuracy: 0.9604\n",
            "Test Accuracy: 0.9621\n",
            "Test Precision: 0.9780\n",
            "Test Recall: 0.9440\n",
            "Test F1-Score: 0.9607\n",
            "\n",
            "Epoch 4/10:\n",
            "Training Loss: 0.9745\n",
            "Validation Accuracy: 0.9604\n",
            "Test Accuracy: 0.9621\n",
            "Test Precision: 0.9780\n",
            "Test Recall: 0.9440\n",
            "Test F1-Score: 0.9607\n",
            "\n",
            "Epoch 5/10:\n",
            "Training Loss: 0.9745\n",
            "Validation Accuracy: 0.9604\n",
            "Test Accuracy: 0.9621\n",
            "Test Precision: 0.9780\n",
            "Test Recall: 0.9440\n",
            "Test F1-Score: 0.9607\n",
            "\n",
            "Epoch 6/10:\n",
            "Training Loss: 0.9745\n",
            "Validation Accuracy: 0.9604\n",
            "Test Accuracy: 0.9621\n",
            "Test Precision: 0.9780\n",
            "Test Recall: 0.9440\n",
            "Test F1-Score: 0.9607\n",
            "\n",
            "Epoch 7/10:\n",
            "Training Loss: 0.9745\n",
            "Validation Accuracy: 0.9604\n",
            "Test Accuracy: 0.9621\n",
            "Test Precision: 0.9780\n",
            "Test Recall: 0.9440\n",
            "Test F1-Score: 0.9607\n",
            "\n",
            "Epoch 8/10:\n",
            "Training Loss: 0.9745\n",
            "Validation Accuracy: 0.9604\n",
            "Test Accuracy: 0.9621\n",
            "Test Precision: 0.9780\n",
            "Test Recall: 0.9440\n",
            "Test F1-Score: 0.9607\n",
            "\n",
            "Epoch 9/10:\n",
            "Training Loss: 0.9745\n",
            "Validation Accuracy: 0.9604\n",
            "Test Accuracy: 0.9621\n",
            "Test Precision: 0.9780\n",
            "Test Recall: 0.9440\n",
            "Test F1-Score: 0.9607\n",
            "\n",
            "Epoch 10/10:\n",
            "Training Loss: 0.9745\n",
            "Validation Accuracy: 0.9604\n",
            "Test Accuracy: 0.9621\n",
            "Test Precision: 0.9780\n",
            "Test Recall: 0.9440\n",
            "Test F1-Score: 0.9607\n"
          ]
        },
        {
          "output_type": "display_data",
          "data": {
            "text/plain": [
              "<Figure size 640x480 with 1 Axes>"
            ],
            "image/png": "[encoded data removed]"
          },
          "metadata": {}
        }
      ]
    },
    {
      "cell_type": "markdown",
      "source": [
        "# **DistillBERT Tokenization and Training**"
      ],
      "metadata": {
        "id": "MPl_5IXqsQrG"
      }
    },
    {
      "cell_type": "code",
      "source": [
        "# Tokenize and create PyTorch dataset\n",
        "tokenizer = DistilBertTokenizer.from_pretrained('distilbert-base-uncased')\n",
        "\n",
        "encodings = tokenizer(all_comments, truncation=True, padding=True, max_length=128, return_tensors='pt')\n",
        "dataset = TensorDataset(encodings['input_ids'], encodings['attention_mask'], torch.tensor(all_labels))"
      ],
      "metadata": {
        "colab": {
          "base_uri": "https://localhost:8080/",
          "height": 274,
          "referenced_widgets": [
            "f5878b751ecd4047b7b09c9c65c4a6f7",
            "7abec79685eb438ab5e1221a23af4125",
            "a18e27a84b284d78942af84ac77ad933",
            "8a53fc855bf244a78b78ee22873075c0",
            "7672b12021d34fa5948e7d24c39b5818",
            "8ff13ea110b147e982caf9bde6435f91",
            "3a53a6eeb0db4ad2883ad7e0cabb44c5",
            "7261f8f39f894aeab08cf43813f33046",
            "a5a76e527e914ae8b064d4871007a191",
            "7e270c1ab6d942e1a5ebd87de43a2570",
            "b62f032ea214437a8b107fee3d870fae",
            "93fee3c068f845e4b6672aff69b69917",
            "7f3054ace246410792a788600932e6bf",
            "34ecf60459644a90909fadb82c4402d1",
            "a41a079851e94f1c9924b402c91ee153",
            "843c37756539471ab24aec8ae4611439",
            "4bdceb85045b4d548f93cc028f6df2b2",
            "d6fce113851546b69c27619349a1f8f9",
            "fd1575460d0a495cad7b04d3ce1b16c1",
            "df952db6131f471fbd38542d86eae978",
            "e1a51fc7ed204c6d90b3184494c0163b",
            "ba7c795fc09f45b6a188304511faf185",
            "5afdebee77504f3e9076e18b25409f49",
            "82c844700c014bd08cf81bd321b6e781",
            "6fae89fd07654b67a205ad37a7c39aab",
            "44701ab19ea84331a8aa62a6714463f1",
            "36883c1357e7466b9089a5fc22215d7e",
            "95cb93e63ba945a9af591ffbf5cafec2",
            "b3d90ea12a264a4f90c5175979cfd73d",
            "b03c31d053264240b51425ed16c5f451",
            "77f03bcdd562485dac22ebdf67b18ed0",
            "be25a8604ca74d02ae527772027bd924",
            "bbc03109e53c465cb1ab062fa7926087",
            "addd84cb48b742cd82a9e77a0195d77f",
            "08731543ef4d4ccf9843c0c00aea119e",
            "8a2adf3cdc9843fe8d2f26e1e0c0607a",
            "26a8dabbf1bb43a2be9704c97d9394ab",
            "c2654bf6de6e4764a7b9e714090f291d",
            "ba3b9c7814a942ce8c414cd0b4c09d92",
            "250c87e8caf94872b77fd0e19b61ad48",
            "2f7af7bef550432eb19e730a6f14a1d7",
            "a2a9af7fbf1449bebbd6590e84cb74fc",
            "8a2346af39cc40af979c496a4ef6210c",
            "96c350ca8e8e4db79fa652b4c7e00f52"
          ]
        },
        "id": "MBEncCu1REsh",
        "outputId": "e330952e-8277-4960-99cc-5f00fc618d42"
      },
      "execution_count": null,
      "outputs": [
        {
          "output_type": "stream",
          "name": "stderr",
          "text": [
            "/usr/local/lib/python3.10/dist-packages/huggingface_hub/utils/_token.py:88: UserWarning: \n",
            "The secret `HF_TOKEN` does not exist in your Colab secrets.\n",
            "To authenticate with the Hugging Face Hub, create a token in your settings tab (https://huggingface.co/settings/tokens), set it as secret in your Google Colab and restart your session.\n",
            "You will be able to reuse this secret in all of your notebooks.\n",
            "Please note that authentication is recommended but still optional to access public models or datasets.\n",
            "  warnings.warn(\n"
          ]
        },
        {
          "output_type": "display_data",
          "data": {
            "text/plain": [
              "tokenizer_config.json:   0%|          | 0.00/28.0 [00:00<?, ?B/s]"
            ],
            "application/vnd.jupyter.widget-view+json": {
              "version_major": 2,
              "version_minor": 0,
              "model_id": "f5878b751ecd4047b7b09c9c65c4a6f7"
            }
          },
          "metadata": {}
        },
        {
          "output_type": "display_data",
          "data": {
            "text/plain": [
              "vocab.txt:   0%|          | 0.00/232k [00:00<?, ?B/s]"
            ],
            "application/vnd.jupyter.widget-view+json": {
              "version_major": 2,
              "version_minor": 0,
              "model_id": "93fee3c068f845e4b6672aff69b69917"
            }
          },
          "metadata": {}
        },
        {
          "output_type": "display_data",
          "data": {
            "text/plain": [
              "tokenizer.json:   0%|          | 0.00/466k [00:00<?, ?B/s]"
            ],
            "application/vnd.jupyter.widget-view+json": {
              "version_major": 2,
              "version_minor": 0,
              "model_id": "5afdebee77504f3e9076e18b25409f49"
            }
          },
          "metadata": {}
        },
        {
          "output_type": "display_data",
          "data": {
            "text/plain": [
              "config.json:   0%|          | 0.00/483 [00:00<?, ?B/s]"
            ],
            "application/vnd.jupyter.widget-view+json": {
              "version_major": 2,
              "version_minor": 0,
              "model_id": "addd84cb48b742cd82a9e77a0195d77f"
            }
          },
          "metadata": {}
        }
      ]
    },
    {
      "cell_type": "code",
      "source": [
        "# Split the dataset into training, validation, and test sets\n",
        "train_size = int(0.8 * len(dataset))\n",
        "val_size = int(0.1 * len(dataset))\n",
        "test_size = len(dataset) - train_size - val_size"
      ],
      "metadata": {
        "id": "X9pdnLEURkxJ"
      },
      "execution_count": null,
      "outputs": []
    },
    {
      "cell_type": "code",
      "source": [
        "train_dataset, val_dataset, test_dataset = torch.utils.data.random_split(dataset, [train_size, val_size, test_size])"
      ],
      "metadata": {
        "id": "xBP6Qv0FgWHe"
      },
      "execution_count": null,
      "outputs": []
    },
    {
      "cell_type": "code",
      "source": [
        "# Set up DataLoader for training, validation, and test sets\n",
        "train_loader = DataLoader(train_dataset, batch_size=8, shuffle=True)\n",
        "val_loader = DataLoader(val_dataset, batch_size=8, shuffle=False)\n",
        "test_loader = DataLoader(test_dataset, batch_size=8, shuffle=False)"
      ],
      "metadata": {
        "id": "idjYslfdgu8w"
      },
      "execution_count": null,
      "outputs": []
    },
    {
      "cell_type": "code",
      "source": [
        "# Load the DistilBERT model for sequence classification\n",
        "model = DistilBertForSequenceClassification.from_pretrained('distilbert-base-uncased', num_labels=2)\n",
        "model = model.to(device)\n",
        "\n",
        "# Set up optimizer\n",
        "optimizer = AdamW(model.parameters(), lr=1e-5)"
      ],
      "metadata": {
        "colab": {
          "base_uri": "https://localhost:8080/",
          "height": 142,
          "referenced_widgets": [
            "e3f0a6ae2a7f4e9f8944dc46d96e8907",
            "795d5955a1194c56a012c28b5e023500",
            "72aa4d565e7f4fc49660c893f9d776f4",
            "43de4788003f4f94b501749f5871ef07",
            "b249898f54d9415ebe9a07d031368f49",
            "6928e0af41814110a2ea963a505df2ff",
            "78fb3d80970849a4a517e7de980a57fd",
            "dcbf03ae441349a68bc4259348f92af9",
            "2e93fabf207843b6ac5e61eea1c0a780",
            "8742165e6b42457e816d7514b95d3497",
            "918846865fae4cd298bb3d2fb197d2db"
          ]
        },
        "id": "i_D7aMG_hKQD",
        "outputId": "d3724699-859f-471f-b812-53fb21c61cb1"
      },
      "execution_count": null,
      "outputs": [
        {
          "output_type": "display_data",
          "data": {
            "text/plain": [
              "model.safetensors:   0%|          | 0.00/268M [00:00<?, ?B/s]"
            ],
            "application/vnd.jupyter.widget-view+json": {
              "version_major": 2,
              "version_minor": 0,
              "model_id": "e3f0a6ae2a7f4e9f8944dc46d96e8907"
            }
          },
          "metadata": {}
        },
        {
          "output_type": "stream",
          "name": "stderr",
          "text": [
            "Some weights of DistilBertForSequenceClassification were not initialized from the model checkpoint at distilbert-base-uncased and are newly initialized: ['pre_classifier.bias', 'classifier.bias', 'pre_classifier.weight', 'classifier.weight']\n",
            "You should probably TRAIN this model on a down-stream task to be able to use it for predictions and inference.\n",
            "/usr/local/lib/python3.10/dist-packages/transformers/optimization.py:411: FutureWarning: This implementation of AdamW is deprecated and will be removed in a future version. Use the PyTorch implementation torch.optim.AdamW instead, or set `no_deprecation_warning=True` to disable this warning\n",
            "  warnings.warn(\n"
          ]
        }
      ]
    },
    {
      "cell_type": "code",
      "source": [
        "import torch\n",
        "from torch.utils.data import DataLoader\n",
        "\n",
        "import matplotlib.pyplot as plt\n",
        "from sklearn.metrics import precision_recall_fscore_support"
      ],
      "metadata": {
        "id": "-ZIth9jd1C6X"
      },
      "execution_count": null,
      "outputs": []
    },
    {
      "cell_type": "code",
      "source": [
        "# Training loop\n",
        "num_epochs = 3\n",
        "training_loss = []  # Initialize an empty list to store training loss over epochs\n",
        "\n",
        "for epoch in range(num_epochs):\n",
        "    start_time = time.time()\n",
        "    model.train()\n",
        "    total_loss = 0.0\n",
        "\n",
        "    with tqdm(train_loader, desc=f\"Epoch {epoch + 1}\", unit=\"batch\") as t:\n",
        "        for i, batch in enumerate(t):\n",
        "            input_ids, attention_mask, labels = batch\n",
        "\n",
        "            input_ids = input_ids.to(device)\n",
        "            attention_mask = attention_mask.to(device)\n",
        "            labels = labels.to(device)\n",
        "\n",
        "            optimizer.zero_grad()\n",
        "            outputs = model(input_ids, attention_mask=attention_mask, labels=labels)\n",
        "            loss = outputs.loss\n",
        "            loss.backward()\n",
        "\n",
        "            optimizer.step()\n",
        "\n",
        "            t.set_postfix(loss=loss.item())\n",
        "            total_loss += loss.item()\n",
        "\n",
        "        end_time = time.time()\n",
        "        elapsed_time = end_time - start_time\n",
        "        average_loss = total_loss / len(train_loader)\n",
        "        training_loss.append(average_loss)  # Store training loss for this epoch\n",
        "\n",
        "        print(f\"Epoch {epoch + 1}, Average Loss: {average_loss}, Training Time: {elapsed_time} seconds\")"
      ],
      "metadata": {
        "colab": {
          "base_uri": "https://localhost:8080/"
        },
        "id": "dSxq05Ej42SS",
        "outputId": "ca6cf8c4-c5f5-476f-b4c6-db90b16bc6b2"
      },
      "execution_count": null,
      "outputs": [
        {
          "output_type": "stream",
          "name": "stderr",
          "text": [
            "Epoch 1: 100%|██████████| 2400/2400 [03:47<00:00, 10.56batch/s, loss=0.0119]\n"
          ]
        },
        {
          "output_type": "stream",
          "name": "stdout",
          "text": [
            "Epoch 1, Average Loss: 0.1181304021376612, Training Time: 227.23306107521057 seconds\n"
          ]
        },
        {
          "output_type": "stream",
          "name": "stderr",
          "text": [
            "Epoch 2: 100%|██████████| 2400/2400 [03:47<00:00, 10.53batch/s, loss=0.000601]\n"
          ]
        },
        {
          "output_type": "stream",
          "name": "stdout",
          "text": [
            "Epoch 2, Average Loss: 0.017188734185316815, Training Time: 227.92807507514954 seconds\n"
          ]
        },
        {
          "output_type": "stream",
          "name": "stderr",
          "text": [
            "Epoch 3: 100%|██████████| 2400/2400 [03:47<00:00, 10.54batch/s, loss=0.0311]"
          ]
        },
        {
          "output_type": "stream",
          "name": "stdout",
          "text": [
            "Epoch 3, Average Loss: 0.012210514972527259, Training Time: 227.77640843391418 seconds\n"
          ]
        },
        {
          "output_type": "stream",
          "name": "stderr",
          "text": [
            "\n"
          ]
        }
      ]
    },
    {
      "cell_type": "code",
      "source": [
        "print(training_loss)"
      ],
      "metadata": {
        "id": "PIKpmp9lNIp9",
        "colab": {
          "base_uri": "https://localhost:8080/"
        },
        "outputId": "b04035d2-b565-4211-a2bd-72a8a1e632fe"
      },
      "execution_count": null,
      "outputs": [
        {
          "output_type": "stream",
          "name": "stdout",
          "text": [
            "[0.1181304021376612, 0.017188734185316815, 0.012210514972527259]\n"
          ]
        }
      ]
    },
    {
      "cell_type": "code",
      "source": [
        "# Save the fine-tuned model\n",
        "# model.save_pretrained('/content/drive/MyDrive/bert-fine-tuned1')"
      ],
      "metadata": {
        "id": "hDVPxSBOGAck"
      },
      "execution_count": null,
      "outputs": []
    },
    {
      "cell_type": "code",
      "source": [
        "# Testing fine-tuned BERT loop\n",
        "model.eval()\n",
        "correct_predictions = 0\n",
        "total_examples = 0\n",
        "\n",
        "with torch.no_grad():\n",
        "    for input_ids, attention_mask, labels in tqdm(test_loader, desc=\"Testing\", unit=\"batch\"):\n",
        "        input_ids, attention_mask, labels = input_ids.to(device), attention_mask.to(device), labels.to(device)\n",
        "\n",
        "        outputs = model(input_ids, attention_mask=attention_mask)\n",
        "        probabilities = torch.nn.functional.softmax(outputs.logits, dim=1)\n",
        "        _, predicted = torch.max(probabilities, 1)\n",
        "\n",
        "        correct_predictions += (predicted == labels).sum().item()\n",
        "        total_examples += labels.size(0)\n",
        "\n",
        "test_accuracy = correct_predictions / total_examples\n",
        "print(f'Test Accuracy: {test_accuracy * 100:.2f}%')"
      ],
      "metadata": {
        "id": "FrlmmMhKDoBS",
        "colab": {
          "base_uri": "https://localhost:8080/"
        },
        "outputId": "db9f4224-8988-4092-b58d-41ab6caf5f1d"
      },
      "execution_count": null,
      "outputs": [
        {
          "output_type": "stream",
          "name": "stderr",
          "text": [
            "Testing: 100%|██████████| 300/300 [00:08<00:00, 35.37batch/s]"
          ]
        },
        {
          "output_type": "stream",
          "name": "stdout",
          "text": [
            "Test Accuracy: 98.96%\n"
          ]
        },
        {
          "output_type": "stream",
          "name": "stderr",
          "text": [
            "\n"
          ]
        }
      ]
    },
    {
      "cell_type": "code",
      "source": [
        "%matplotlib inline"
      ],
      "metadata": {
        "id": "5VvymNaB9J0U"
      },
      "execution_count": null,
      "outputs": []
    },
    {
      "cell_type": "code",
      "source": [
        "# Validation loop\n",
        "model.eval()\n",
        "true_labels = []\n",
        "predicted_labels = []\n",
        "correct_predictions = 0\n",
        "total_examples = 0\n",
        "\n",
        "with torch.no_grad():\n",
        "    for input_ids, attention_mask, labels in tqdm(val_loader, desc=\"Validation\", unit=\"batch\"):\n",
        "        input_ids, attention_mask, labels = input_ids.to(device), attention_mask.to(device), labels.to(device)\n",
        "\n",
        "        outputs = model(input_ids, attention_mask=attention_mask)\n",
        "        probabilities = torch.nn.functional.softmax(outputs.logits, dim=1)\n",
        "        _, predicted = torch.max(probabilities, 1)\n",
        "\n",
        "        true_labels.extend(labels.cpu().numpy())\n",
        "        predicted_labels.extend(predicted.cpu().numpy())\n",
        "\n",
        "        correct_predictions += (predicted == labels).sum().item()\n",
        "        total_examples += labels.size(0)\n",
        "\n",
        "validation_accuracy = correct_predictions / total_examples\n",
        "print(f'Validation Accuracy: {validation_accuracy * 100:.2f}%')"
      ],
      "metadata": {
        "id": "-Eww73DU_GyO",
        "colab": {
          "base_uri": "https://localhost:8080/"
        },
        "outputId": "ed6996d4-291c-4b86-ed8e-0d9ce9d8fd50"
      },
      "execution_count": null,
      "outputs": [
        {
          "output_type": "stream",
          "name": "stderr",
          "text": [
            "Validation: 100%|██████████| 300/300 [00:08<00:00, 35.31batch/s]"
          ]
        },
        {
          "output_type": "stream",
          "name": "stdout",
          "text": [
            "Validation Accuracy: 98.83%\n"
          ]
        },
        {
          "output_type": "stream",
          "name": "stderr",
          "text": [
            "\n"
          ]
        }
      ]
    },
    {
      "cell_type": "code",
      "source": [
        "# Calculate Precision, Recall, and F1 Score\n",
        "precision, recall, f1, _ = precision_recall_fscore_support(true_labels, predicted_labels, average='binary')"
      ],
      "metadata": {
        "id": "K33MGFv_Dp72"
      },
      "execution_count": null,
      "outputs": []
    },
    {
      "cell_type": "code",
      "source": [
        "print(\"num_epochs:\", num_epochs)\n",
        "print(\"training_loss:\", training_loss)\n",
        "print(\"test_accuracy:\", test_accuracy)\n",
        "print(\"recall:\", recall)"
      ],
      "metadata": {
        "id": "83jy77wlNC6W",
        "colab": {
          "base_uri": "https://localhost:8080/"
        },
        "outputId": "66bda2b7-1b7f-4b91-f919-5b09484a4a5c"
      },
      "execution_count": null,
      "outputs": [
        {
          "output_type": "stream",
          "name": "stdout",
          "text": [
            "num_epochs: 3\n",
            "training_loss: [0.1181304021376612, 0.017188734185316815, 0.012210514972527259]\n",
            "test_accuracy: 0.9895833333333334\n",
            "recall: 1.0\n"
          ]
        }
      ]
    },
    {
      "cell_type": "code",
      "source": [
        "import matplotlib.pyplot as plt\n",
        "\n",
        "# Create a figure with subplots\n",
        "fig, axes = plt.subplots(2, 2, figsize=(15, 12))\n",
        "\n",
        "# Plot a simple curve for training loss\n",
        "axes[0, 0].plot(range(1, num_epochs + 1), training_loss, label='Training Loss', marker='o')\n",
        "axes[0, 0].set_xlabel('Epoch')\n",
        "axes[0, 0].set_ylabel('Loss')\n",
        "axes[0, 0].set_title('Training Loss Over Epochs')\n",
        "axes[0, 0].legend()\n",
        "\n",
        "# Plot a horizontal line for test accuracy\n",
        "axes[0, 1].plot(range(1, num_epochs + 1), [test_accuracy]*num_epochs, label='Accuracy', marker='o')\n",
        "axes[0, 1].set_xlabel('Epoch')\n",
        "axes[0, 1].set_ylabel('Accuracy')\n",
        "axes[0, 1].set_title('Accuracy Over Epochs')\n",
        "axes[0, 1].legend()\n",
        "\n",
        "# Plot a horizontal line for recall\n",
        "axes[1, 1].plot(range(1, num_epochs + 1), [recall]*num_epochs, label='Recall', marker='o')\n",
        "axes[1, 1].set_xlabel('Epoch')\n",
        "axes[1, 1].set_ylabel('Recall')\n",
        "axes[1, 1].set_title('Recall Over Epochs')\n",
        "axes[1, 1].legend()\n",
        "\n",
        "# Explicitly show the plots\n",
        "plt.tight_layout()\n",
        "plt.show()"
      ],
      "metadata": {
        "id": "ZqY_wvHj-Upt",
        "colab": {
          "base_uri": "https://localhost:8080/",
          "height": 1000
        },
        "outputId": "8ce77f3e-59e3-4f33-fb10-29f43fae52c7"
      },
      "execution_count": null,
      "outputs": [
        {
          "output_type": "display_data",
          "data": {
            "text/plain": [
              "<Figure size 1500x1200 with 4 Axes>"
            ],
            "image/png": "[encoded data removed]"
          },
          "metadata": {}
        }
      ]
    },
    {
      "cell_type": "code",
      "source": [
        "print(\"Recall values:\", [recall]*num_epochs)"
      ],
      "metadata": {
        "id": "Qz4rrP3S-_sc",
        "colab": {
          "base_uri": "https://localhost:8080/"
        },
        "outputId": "633c70e7-5222-4b87-9491-4f05cf5461b9"
      },
      "execution_count": null,
      "outputs": [
        {
          "output_type": "stream",
          "name": "stdout",
          "text": [
            "Recall values: [1.0, 1.0, 1.0]\n"
          ]
        }
      ]
    },
    {
      "cell_type": "code",
      "source": [
        "print(\"Training Loss:\", training_loss)\n",
        "print(\"Test Accuracy:\", test_accuracy)\n",
        "print(\"Recall:\", recall)"
      ],
      "metadata": {
        "id": "p3EQQHq-JTm5",
        "colab": {
          "base_uri": "https://localhost:8080/"
        },
        "outputId": "f3a69f65-f937-41ad-9d22-cf0a513250f9"
      },
      "execution_count": null,
      "outputs": [
        {
          "output_type": "stream",
          "name": "stdout",
          "text": [
            "Training Loss: [0.1181304021376612, 0.017188734185316815, 0.012210514972527259]\n",
            "Test Accuracy: 0.9895833333333334\n",
            "Recall: 1.0\n"
          ]
        }
      ]
    },
    {
      "cell_type": "code",
      "source": [
        "print(\"Precision:\", precision)\n",
        "print(\"F1 Score:\", f1)"
      ],
      "metadata": {
        "id": "WAOgwktR8gE3",
        "colab": {
          "base_uri": "https://localhost:8080/"
        },
        "outputId": "5fbab55a-987d-472d-c5d7-6d0c3e0d43b6"
      },
      "execution_count": null,
      "outputs": [
        {
          "output_type": "stream",
          "name": "stdout",
          "text": [
            "Precision: 0.9771615008156607\n",
            "F1 Score: 0.9884488448844885\n"
          ]
        }
      ]
    },
    {
      "cell_type": "markdown",
      "source": [
        "# **Testing on entirely new dataset**"
      ],
      "metadata": {
        "id": "UR4_iLy5tGFk"
      }
    },
    {
      "cell_type": "code",
      "source": [
        "new_data_df = pd.read_csv('/content/drive/MyDrive/new_commments_output.csv')  # Provide the path to your new CSV file\n",
        "\n",
        "\n",
        "non_toxic_comments_test = new_data_df[(new_data_df['toxic'] == 0) & (new_data_df['severe_toxic'] == 0) & (new_data_df['threat'] == 0) & (new_data_df['identity_attack'] == 0)].body\n",
        "toxic_comments_test = new_data_df[new_data_df['toxic'] == 1].body"
      ],
      "metadata": {
        "id": "nxRBFrroNo4o"
      },
      "execution_count": null,
      "outputs": []
    },
    {
      "cell_type": "code",
      "source": [
        "toxic_comments_test = toxic_comments_test.sample(n=1200, random_state=42)\n",
        "non_toxic_comments_test = non_toxic_comments_test.sample(n=1200, random_state=42)\n",
        "\n",
        "toxic_comments_test, non_toxic_comments_test = shuffle(toxic_comments_test, non_toxic_comments_test, random_state=42)\n",
        "\n",
        "toxic_comments_test = toxic_comments_test.tolist()\n",
        "non_toxic_comments_test = non_toxic_comments_test.tolist()"
      ],
      "metadata": {
        "id": "UVzDsvARXfae"
      },
      "execution_count": null,
      "outputs": []
    },
    {
      "cell_type": "code",
      "source": [
        "non_toxic_labels_test = [0] * len(non_toxic_comments_test)\n",
        "toxic_labels_test = [1] * len(toxic_comments_test)\n",
        "\n",
        "new_comments = non_toxic_comments_test + toxic_comments_test\n",
        "true_labels_test = non_toxic_labels_test + toxic_labels_test"
      ],
      "metadata": {
        "id": "G_oECVUIXijG"
      },
      "execution_count": null,
      "outputs": []
    },
    {
      "cell_type": "markdown",
      "source": [
        "# Testing Traditional Models with New Data"
      ],
      "metadata": {
        "id": "VErwVuXmv_Cz"
      }
    },
    {
      "cell_type": "code",
      "source": [
        "# Ensure new_comments is a list of strings\n",
        "new_comments = [str(comment) for comment in new_comments]\n",
        "\n",
        "new_comments = [comment.lower() for comment in new_comments]"
      ],
      "metadata": {
        "id": "_t-k4m8nXeje"
      },
      "execution_count": null,
      "outputs": []
    },
    {
      "cell_type": "code",
      "source": [
        "# from nltk.corpus import stopwords\n",
        "# nltk.download('stopwords')\n",
        "\n",
        "# stop_words = set(stopwords.words('english'))\n",
        "new_comments = [' '.join([word for word in comment.split() if word.lower() not in stop_words]) for comment in new_comments]"
      ],
      "metadata": {
        "id": "5y-f14eiXvHY"
      },
      "execution_count": null,
      "outputs": []
    },
    {
      "cell_type": "code",
      "source": [
        "# import re\n",
        "\n",
        "new_comments = [re.sub(r'[^a-zA-Z\\s]', '', comment) for comment in new_comments]"
      ],
      "metadata": {
        "id": "tU0LJYaqX_1t"
      },
      "execution_count": null,
      "outputs": []
    },
    {
      "cell_type": "code",
      "source": [
        "from sklearn.metrics import precision_recall_fscore_support, accuracy_score, roc_curve, auc\n",
        "import matplotlib.pyplot as plt\n",
        "\n",
        "def test_sklearn_model(model, X_test, true_labels):\n",
        "    # Predictions on test set\n",
        "    test_predictions = model.predict(X_test)\n",
        "\n",
        "    # Compute precision, recall, f1-score, and accuracy\n",
        "    precision, recall, f1_score, _ = precision_recall_fscore_support(true_labels, test_predictions, average='binary')\n",
        "    accuracy = accuracy_score(true_labels, test_predictions)\n",
        "\n",
        "    # Compute ROC curve and area under the curve (AUC)\n",
        "    fpr, tpr, thresholds = roc_curve(true_labels, model.predict_proba(X_test)[:, 1])\n",
        "    roc_auc = auc(fpr, tpr)\n",
        "\n",
        "    # Print evaluation metrics\n",
        "    print(f\"Test Precision: {precision:.4f}\")\n",
        "    print(f\"Test Recall: {recall:.4f}\")\n",
        "    print(f\"Test F1-Score: {f1_score:.4f}\")\n",
        "    print(f\"Test Accuracy: {accuracy:.4f}\")\n",
        "    print(f\"Test ROC AUC: {roc_auc:.4f}\")\n",
        "\n",
        "    # Plot ROC Curve\n",
        "    plt.figure(figsize=(8, 6))\n",
        "    plt.plot(fpr, tpr, color='darkorange', lw=2, label='ROC curve (area = {:.2f})'.format(roc_auc))\n",
        "    plt.plot([0, 1], [0, 1], color='navy', lw=2, linestyle='--')\n",
        "    plt.xlabel('False Positive Rate')\n",
        "    plt.ylabel('True Positive Rate')\n",
        "    plt.title('Receiver Operating Characteristic (ROC) Curve')\n",
        "    plt.legend(loc=\"lower right\")\n",
        "    plt.show()\n",
        "\n",
        "# Tokenize new comments using the same CountVectorizer instance\n",
        "new_X = vectorizer.transform(new_comments)\n",
        "\n",
        "# Test each model on the new comments\n",
        "for model in models:\n",
        "    print(f\"\\nTesting {model.__class__.__name__}:\")\n",
        "    test_sklearn_model(model, new_X, true_labels_test)\n"
      ],
      "metadata": {
        "colab": {
          "base_uri": "https://localhost:8080/",
          "height": 1000
        },
        "id": "oAmV6hnjP0ms",
        "outputId": "d529649f-719c-4f9e-e769-e537ab0095b5"
      },
      "execution_count": null,
      "outputs": [
        {
          "output_type": "stream",
          "name": "stdout",
          "text": [
            "\n",
            "Testing LogisticRegression:\n",
            "Test Precision: 0.9599\n",
            "Test Recall: 0.5592\n",
            "Test F1-Score: 0.7067\n",
            "Test Accuracy: 0.7679\n",
            "Test ROC AUC: 0.8591\n"
          ]
        },
        {
          "output_type": "display_data",
          "data": {
            "text/plain": [
              "<Figure size 800x600 with 1 Axes>"
            ],
            "image/png": "[encoded data removed]"
          },
          "metadata": {}
        },
        {
          "output_type": "stream",
          "name": "stdout",
          "text": [
            "\n",
            "Testing RandomForestClassifier:\n",
            "Test Precision: 0.9849\n",
            "Test Recall: 0.5450\n",
            "Test F1-Score: 0.7017\n",
            "Test Accuracy: 0.7683\n",
            "Test ROC AUC: 0.8487\n"
          ]
        },
        {
          "output_type": "display_data",
          "data": {
            "text/plain": [
              "<Figure size 800x600 with 1 Axes>"
            ],
            "image/png": "[encoded data removed]"
          },
          "metadata": {}
        },
        {
          "output_type": "stream",
          "name": "stdout",
          "text": [
            "\n",
            "Testing DecisionTreeClassifier:\n",
            "Test Precision: 0.9078\n",
            "Test Recall: 0.6483\n",
            "Test F1-Score: 0.7564\n",
            "Test Accuracy: 0.7913\n",
            "Test ROC AUC: 0.7913\n"
          ]
        },
        {
          "output_type": "display_data",
          "data": {
            "text/plain": [
              "<Figure size 800x600 with 1 Axes>"
            ],
            "image/png": "[encoded data removed]"
          },
          "metadata": {}
        },
        {
          "output_type": "stream",
          "name": "stdout",
          "text": [
            "\n",
            "Testing XGBClassifier:\n",
            "Test Precision: 0.9629\n",
            "Test Recall: 0.6050\n",
            "Test F1-Score: 0.7431\n",
            "Test Accuracy: 0.7908\n",
            "Test ROC AUC: 0.8477\n"
          ]
        },
        {
          "output_type": "display_data",
          "data": {
            "text/plain": [
              "<Figure size 800x600 with 1 Axes>"
            ],
            "image/png": "[encoded data removed]"
          },
          "metadata": {}
        }
      ]
    },
    {
      "cell_type": "markdown",
      "source": [
        "# Testing Distill-BERT with new data"
      ],
      "metadata": {
        "id": "EqS0IV5MwXl5"
      }
    },
    {
      "cell_type": "code",
      "source": [
        "# Load the saved model\n",
        "loaded_model = DistilBertForSequenceClassification.from_pretrained('/content/drive/MyDrive/bert-fine-tuned1')"
      ],
      "metadata": {
        "id": "rM3k0A_yEmMh"
      },
      "execution_count": null,
      "outputs": []
    },
    {
      "cell_type": "code",
      "source": [
        "# Assuming loaded_model is already on the correct device (GPU)\n",
        "\n",
        "loaded_model.to(device)\n",
        "\n",
        "# Move input tensors to the same device as the model\n",
        "\n",
        "# input_ids = input_ids.to(device)\n",
        "# attention_mask = attention_mask.to(device)"
      ],
      "metadata": {
        "id": "8cBV0yghEl_w",
        "colab": {
          "base_uri": "https://localhost:8080/"
        },
        "outputId": "80469420-63c9-41c9-f701-cb616a80f35b"
      },
      "execution_count": null,
      "outputs": [
        {
          "output_type": "execute_result",
          "data": {
            "text/plain": [
              "DistilBertForSequenceClassification(\n",
              "  (distilbert): DistilBertModel(\n",
              "    (embeddings): Embeddings(\n",
              "      (word_embeddings): Embedding(30522, 768, padding_idx=0)\n",
              "      (position_embeddings): Embedding(512, 768)\n",
              "      (LayerNorm): LayerNorm((768,), eps=1e-12, elementwise_affine=True)\n",
              "      (dropout): Dropout(p=0.1, inplace=False)\n",
              "    )\n",
              "    (transformer): Transformer(\n",
              "      (layer): ModuleList(\n",
              "        (0-5): 6 x TransformerBlock(\n",
              "          (attention): MultiHeadSelfAttention(\n",
              "            (dropout): Dropout(p=0.1, inplace=False)\n",
              "            (q_lin): Linear(in_features=768, out_features=768, bias=True)\n",
              "            (k_lin): Linear(in_features=768, out_features=768, bias=True)\n",
              "            (v_lin): Linear(in_features=768, out_features=768, bias=True)\n",
              "            (out_lin): Linear(in_features=768, out_features=768, bias=True)\n",
              "          )\n",
              "          (sa_layer_norm): LayerNorm((768,), eps=1e-12, elementwise_affine=True)\n",
              "          (ffn): FFN(\n",
              "            (dropout): Dropout(p=0.1, inplace=False)\n",
              "            (lin1): Linear(in_features=768, out_features=3072, bias=True)\n",
              "            (lin2): Linear(in_features=3072, out_features=768, bias=True)\n",
              "            (activation): GELUActivation()\n",
              "          )\n",
              "          (output_layer_norm): LayerNorm((768,), eps=1e-12, elementwise_affine=True)\n",
              "        )\n",
              "      )\n",
              "    )\n",
              "  )\n",
              "  (pre_classifier): Linear(in_features=768, out_features=768, bias=True)\n",
              "  (classifier): Linear(in_features=768, out_features=2, bias=True)\n",
              "  (dropout): Dropout(p=0.2, inplace=False)\n",
              ")"
            ]
          },
          "metadata": {},
          "execution_count": 55
        }
      ]
    },
    {
      "cell_type": "code",
      "source": [
        "tokenizer = DistilBertTokenizer.from_pretrained('distilbert-base-uncased')\n",
        "encodings = tokenizer(new_comments, truncation=True, padding=True, max_length=128, return_tensors='pt')\n",
        "\n",
        "# Create PyTorch dataset\n",
        "new_dataset = TensorDataset(encodings['input_ids'], encodings['attention_mask'])\n",
        "\n",
        "# Set up DataLoader\n",
        "new_loader = DataLoader(new_dataset, batch_size=8, shuffle=False)\n",
        "\n",
        "loaded_model.eval()\n",
        "predicted_labels = []\n",
        "\n",
        "with torch.no_grad():\n",
        "    for input_ids, attention_mask in new_loader:\n",
        "        # Move tensors to the GPU\n",
        "        input_ids = input_ids.to(device)\n",
        "        attention_mask = attention_mask.to(device)\n",
        "\n",
        "        outputs = loaded_model(input_ids, attention_mask=attention_mask)\n",
        "        probabilities = torch.nn.functional.softmax(outputs.logits, dim=1)\n",
        "        _, predicted = torch.max(probabilities, 1)\n",
        "\n",
        "        predicted_labels.extend(predicted.cpu().numpy())"
      ],
      "metadata": {
        "id": "C4WzFWqowa9J"
      },
      "execution_count": null,
      "outputs": []
    },
    {
      "cell_type": "code",
      "source": [
        "from sklearn.metrics import accuracy_score, precision_score, recall_score, f1_score, confusion_matrix\n",
        "\n",
        "# Calculate accuracy\n",
        "accuracy_test = accuracy_score(true_labels_test, predicted_labels)\n",
        "print(f'Test Accuracy on New Data: {accuracy_test * 100:.2f}%')\n",
        "\n",
        "# Calculate Precision\n",
        "precision_test = precision_score(true_labels_test, predicted_labels)\n",
        "\n",
        "# Calculate Recall\n",
        "recall_test = recall_score(true_labels_test, predicted_labels)\n",
        "\n",
        "# Calculate F1 Score\n",
        "f1_test = f1_score(true_labels_test, predicted_labels)\n",
        "\n",
        "# Confusion Matrix\n",
        "conf_matrix_test = confusion_matrix(true_labels_test, predicted_labels)\n",
        "print('\\nConfusion Matrix on New Data:')\n",
        "print(conf_matrix_test)\n",
        "\n",
        "# Print the results\n",
        "print(f'Precision on New Data: {precision_test:.4f}')\n",
        "print(f'Recall on New Data: {recall_test:.4f}')\n",
        "print(f'F1 Score on New Data: {f1_test:.4f}')"
      ],
      "metadata": {
        "id": "1RfWSK8Rw9k2",
        "colab": {
          "base_uri": "https://localhost:8080/"
        },
        "outputId": "c11d7716-1e23-4de2-a104-24612e482025"
      },
      "execution_count": null,
      "outputs": [
        {
          "output_type": "stream",
          "name": "stdout",
          "text": [
            "Test Accuracy on New Data: 86.79%\n",
            "\n",
            "Confusion Matrix on New Data:\n",
            "[[1163   37]\n",
            " [ 280  920]]\n",
            "Precision on New Data: 0.9613\n",
            "Recall on New Data: 0.7667\n",
            "F1 Score on New Data: 0.8530\n"
          ]
        }
      ]
    },
    {
      "cell_type": "code",
      "source": [
        "from sklearn.metrics import roc_curve, auc\n",
        "import matplotlib.pyplot as plt\n",
        "\n",
        "# Assuming you have true labels (y_true) and predicted probabilities (y_scores) for the positive class\n",
        "fpr, tpr, thresholds = roc_curve(true_labels_test, predicted_labels)\n",
        "roc_auc = auc(fpr, tpr)\n",
        "# Plot ROC Curve\n",
        "plt.figure(figsize=(8, 8))\n",
        "plt.plot(fpr, tpr, color='darkorange', lw=2, label='ROC curve (AUC = {:.2f})'.format(roc_auc))\n",
        "plt.plot([0, 1], [0, 1], color='navy', lw=2, linestyle='--')\n",
        "plt.xlabel('False Positive Rate')\n",
        "plt.ylabel('True Positive Rate')\n",
        "plt.title('Receiver Operating Characteristic (ROC) Curve')\n",
        "plt.legend(loc='lower right')\n",
        "plt.show()\n",
        "\n",
        "print('AUC-ROC:', roc_auc)"
      ],
      "metadata": {
        "colab": {
          "base_uri": "https://localhost:8080/",
          "height": 736
        },
        "id": "Np1xLWHyedRu",
        "outputId": "5fbbd058-2e75-464b-8bfa-df536ffc8187"
      },
      "execution_count": null,
      "outputs": [
        {
          "output_type": "display_data",
          "data": {
            "text/plain": [
              "<Figure size 800x800 with 1 Axes>"
            ],
            "image/png": "[encoded data removed]"
          },
          "metadata": {}
        },
        {
          "output_type": "stream",
          "name": "stdout",
          "text": [
            "AUC-ROC: 0.8679166666666667\n"
          ]
        }
      ]
    }
  ]
}